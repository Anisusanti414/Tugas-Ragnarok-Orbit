{
 "cells": [
  {
   "cell_type": "code",
   "execution_count": 5,
   "id": "b443bc9c",
   "metadata": {},
   "outputs": [],
   "source": [
    "import Operasi_Matematika as om"
   ]
  },
  {
   "cell_type": "code",
   "execution_count": 7,
   "id": "d8b0fef5",
   "metadata": {},
   "outputs": [
    {
     "data": {
      "text/plain": [
       "12"
      ]
     },
     "execution_count": 7,
     "metadata": {},
     "output_type": "execute_result"
    }
   ],
   "source": [
    "om.pertambahan(5,7)"
   ]
  },
  {
   "cell_type": "code",
   "execution_count": 8,
   "id": "6743e8ae",
   "metadata": {},
   "outputs": [
    {
     "data": {
      "text/plain": [
       "5"
      ]
     },
     "execution_count": 8,
     "metadata": {},
     "output_type": "execute_result"
    }
   ],
   "source": [
    "om.pengurangan(9,4)"
   ]
  },
  {
   "cell_type": "code",
   "execution_count": 9,
   "id": "b914674b",
   "metadata": {},
   "outputs": [
    {
     "data": {
      "text/plain": [
       "21"
      ]
     },
     "execution_count": 9,
     "metadata": {},
     "output_type": "execute_result"
    }
   ],
   "source": [
    "om.perkalian(3,7)"
   ]
  },
  {
   "cell_type": "code",
   "execution_count": 10,
   "id": "b0a22a5a",
   "metadata": {},
   "outputs": [
    {
     "data": {
      "text/plain": [
       "3.0"
      ]
     },
     "execution_count": 10,
     "metadata": {},
     "output_type": "execute_result"
    }
   ],
   "source": [
    "om.pembagian(9,3)"
   ]
  }
 ],
 "metadata": {
  "kernelspec": {
   "display_name": "Python 3 (ipykernel)",
   "language": "python",
   "name": "python3"
  },
  "language_info": {
   "codemirror_mode": {
    "name": "ipython",
    "version": 3
   },
   "file_extension": ".py",
   "mimetype": "text/x-python",
   "name": "python",
   "nbconvert_exporter": "python",
   "pygments_lexer": "ipython3",
   "version": "3.9.7"
  }
 },
 "nbformat": 4,
 "nbformat_minor": 5
}
