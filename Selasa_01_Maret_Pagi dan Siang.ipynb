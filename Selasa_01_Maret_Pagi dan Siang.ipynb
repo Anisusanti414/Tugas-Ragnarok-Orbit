{
 "cells": [
  {
   "cell_type": "markdown",
   "id": "a1e627b7",
   "metadata": {},
   "source": [
    "# Module 1: Introduction to everything"
   ]
  },
  {
   "cell_type": "code",
   "execution_count": 1,
   "id": "10d40d29",
   "metadata": {},
   "outputs": [
    {
     "name": "stdout",
     "output_type": "stream",
     "text": [
      "Hello World!\n"
     ]
    }
   ],
   "source": [
    "print(\"Hello World!\") "
   ]
  },
  {
   "cell_type": "markdown",
   "id": "fd60e214",
   "metadata": {},
   "source": [
    "## Objevtive"
   ]
  },
  {
   "cell_type": "markdown",
   "id": "c3fce88f",
   "metadata": {},
   "source": [
    "### Python Basics\n",
    "\n",
    "- Strings - Creating a String, variable assignments - String Indexing & Slicing String Concatenation & Repetition - Basic Built-in String Methods\n",
    "- Numbers - Types of Numbers - Basic Arithmetic\n",
    "\n",
    "### Data Types & Data Structures\n",
    "- Lists\n",
    "- Dictionaries\n",
    "- Sets & Booleans\n",
    "\n",
    "### Python Programming Constructs\n",
    "- Loops & Iterative Statements - if,elif,else statements - for loops, while loops\n"
   ]
  },
  {
   "cell_type": "markdown",
   "id": "a42ec36c",
   "metadata": {},
   "source": [
    "### Creating a String"
   ]
  },
  {
   "cell_type": "code",
   "execution_count": 2,
   "id": "a14a2445",
   "metadata": {},
   "outputs": [
    {
     "name": "stdout",
     "output_type": "stream",
     "text": [
      "hello\n"
     ]
    }
   ],
   "source": [
    "# Single word\n",
    "print('hello')"
   ]
  },
  {
   "cell_type": "code",
   "execution_count": 3,
   "id": "73e579b5",
   "metadata": {},
   "outputs": [
    {
     "name": "stdout",
     "output_type": "stream",
     "text": [
      "New York\n"
     ]
    }
   ],
   "source": [
    "s = 'New York'\n",
    "print(s)"
   ]
  },
  {
   "cell_type": "code",
   "execution_count": 5,
   "id": "3d58bd54",
   "metadata": {},
   "outputs": [
    {
     "name": "stdout",
     "output_type": "stream",
     "text": [
      "<class 'str'>\n",
      "8\n"
     ]
    }
   ],
   "source": [
    "print(type(s))\n",
    "print(len(s))"
   ]
  },
  {
   "cell_type": "markdown",
   "id": "c74e8835",
   "metadata": {},
   "source": [
    "#### String Indexing"
   ]
  },
  {
   "cell_type": "code",
   "execution_count": 6,
   "id": "93a2550e",
   "metadata": {},
   "outputs": [
    {
     "name": "stdout",
     "output_type": "stream",
     "text": [
      "Hello World\n"
     ]
    }
   ],
   "source": [
    "# Assign s as a string\n",
    "s = 'Hello World'\n",
    "# Print the object\n",
    "print(s) "
   ]
  },
  {
   "cell_type": "code",
   "execution_count": 8,
   "id": "9988cf41",
   "metadata": {},
   "outputs": [
    {
     "name": "stdout",
     "output_type": "stream",
     "text": [
      "H\n",
      "\n"
     ]
    }
   ],
   "source": [
    "# Show first element (in this case a letter)\n",
    "print(s[0])"
   ]
  },
  {
   "cell_type": "code",
   "execution_count": 10,
   "id": "82a6db01",
   "metadata": {},
   "outputs": [
    {
     "name": "stdout",
     "output_type": "stream",
     "text": [
      "e\n"
     ]
    }
   ],
   "source": [
    "# Show the second element (also a letter)\n",
    "print(s[1])"
   ]
  },
  {
   "cell_type": "markdown",
   "id": "ff0154b8",
   "metadata": {},
   "source": [
    "#### String Concatenation and Repetition\n",
    "- String Concatenation is a process to combine two strings. It is done using the '+' operator.\n",
    "- String Repetition is a process of repeating a same string multiple times"
   ]
  },
  {
   "cell_type": "code",
   "execution_count": 11,
   "id": "eae3ae91",
   "metadata": {},
   "outputs": [
    {
     "name": "stdout",
     "output_type": "stream",
     "text": [
      "Hello World\n"
     ]
    }
   ],
   "source": [
    "# concatenation (addition)\n",
    "s1 = 'Hello'\n",
    "s2 = \"World\"\n",
    "print(s1 + \" \" + s2)"
   ]
  },
  {
   "cell_type": "code",
   "execution_count": 12,
   "id": "0a5c6d40",
   "metadata": {},
   "outputs": [
    {
     "name": "stdout",
     "output_type": "stream",
     "text": [
      "Hello_Hello_Hello_\n",
      "----------\n"
     ]
    }
   ],
   "source": [
    "# repetition (multiplication)\n",
    "print(\"Hello_\" * 3)\n",
    "print(\"-\" * 10)\n"
   ]
  },
  {
   "cell_type": "markdown",
   "id": "dcbddbdd",
   "metadata": {},
   "source": [
    "#### String Slicing & Indexing\n",
    "- String Indexing is used to to select the letter at a particular index/position.\n",
    "- String Slicing is a process to select a subset of an entire string\n"
   ]
  },
  {
   "cell_type": "code",
   "execution_count": 13,
   "id": "3f7d094b",
   "metadata": {},
   "outputs": [],
   "source": [
    "s = \"Namaste World\""
   ]
  },
  {
   "cell_type": "code",
   "execution_count": 14,
   "id": "e37e8ed1",
   "metadata": {},
   "outputs": [
    {
     "name": "stdout",
     "output_type": "stream",
     "text": [
      "a\n",
      "e Wor\n",
      "Worl\n"
     ]
    }
   ],
   "source": [
    "# print sub strings\n",
    "print(s[1]) #This is indexing.\n",
    "print(s[6:11]) #This is known as slicing.\n",
    "print(s[-5:-1])\n"
   ]
  },
  {
   "cell_type": "code",
   "execution_count": 15,
   "id": "8496fe86",
   "metadata": {},
   "outputs": [
    {
     "name": "stdout",
     "output_type": "stream",
     "text": [
      "True\n"
     ]
    }
   ],
   "source": [
    "# test substring membership\n",
    "print(\"Wor\" in s)\n"
   ]
  },
  {
   "cell_type": "markdown",
   "id": "194235fc",
   "metadata": {},
   "source": [
    "#### Basic Built-in String methods"
   ]
  },
  {
   "cell_type": "code",
   "execution_count": 18,
   "id": "116adfe2",
   "metadata": {},
   "outputs": [
    {
     "name": "stdout",
     "output_type": "stream",
     "text": [
      "HELLO WORLD\n",
      "hello world\n"
     ]
    }
   ],
   "source": [
    "s = \"Hello World\"\n",
    "print(s.upper()) ## Convert all the element of the string to Uppercase..!!\n",
    "print(s.lower())"
   ]
  },
  {
   "cell_type": "markdown",
   "id": "3b462a8a",
   "metadata": {},
   "source": [
    "#### Print Formatting\n",
    "We can use the .format() method to add formatted objects to printed string statements."
   ]
  },
  {
   "cell_type": "code",
   "execution_count": 19,
   "id": "6de3b726",
   "metadata": {},
   "outputs": [],
   "source": [
    "name = \"Einstein\"\n",
    "age = 22\n",
    "married = True"
   ]
  },
  {
   "cell_type": "code",
   "execution_count": null,
   "id": "ecefcfc7",
   "metadata": {},
   "outputs": [],
   "source": []
  },
  {
   "cell_type": "code",
   "execution_count": 20,
   "id": "0c6d9bca",
   "metadata": {},
   "outputs": [
    {
     "name": "stdout",
     "output_type": "stream",
     "text": [
      "My name is Einstein, my age is 22, and it is True that I am married\n"
     ]
    }
   ],
   "source": [
    "print(\"My name is %s, my age is %s, and it is %s that I am married\" %\n",
    "(name, age, married))\n"
   ]
  },
  {
   "cell_type": "code",
   "execution_count": 22,
   "id": "654f24cb",
   "metadata": {},
   "outputs": [
    {
     "name": "stdout",
     "output_type": "stream",
     "text": [
      "My name is Einstein, my age is 22, and it is True that I am married\n"
     ]
    }
   ],
   "source": [
    "print(\"My name is {}, my age is {}, and it is {} that I am married\".format(name, age, married))\n"
   ]
  },
  {
   "cell_type": "markdown",
   "id": "bef424cb",
   "metadata": {},
   "source": [
    "## Numbers\n"
   ]
  },
  {
   "cell_type": "markdown",
   "id": "3644b668",
   "metadata": {},
   "source": [
    "Having worked with string we will turn our attention to numbers\n",
    "We'll learn about the following topics:\n",
    "1. Types of Numbers in Python\n",
    "2. Basic Arithmetic\n",
    "3. Object Assignment in Python"
   ]
  },
  {
   "cell_type": "markdown",
   "id": "11f13b9c",
   "metadata": {},
   "source": [
    "### Basic Arithmetic"
   ]
  },
  {
   "cell_type": "code",
   "execution_count": 23,
   "id": "564e94ff",
   "metadata": {},
   "outputs": [
    {
     "name": "stdout",
     "output_type": "stream",
     "text": [
      "3\n"
     ]
    }
   ],
   "source": [
    "# Addition\n",
    "print(2+1)"
   ]
  },
  {
   "cell_type": "code",
   "execution_count": 24,
   "id": "3ee126c9",
   "metadata": {},
   "outputs": [
    {
     "name": "stdout",
     "output_type": "stream",
     "text": [
      "1\n"
     ]
    }
   ],
   "source": [
    "# Subtraction\n",
    "print(2-1)\n"
   ]
  },
  {
   "cell_type": "code",
   "execution_count": 25,
   "id": "b14e5cb3",
   "metadata": {},
   "outputs": [
    {
     "name": "stdout",
     "output_type": "stream",
     "text": [
      "4\n"
     ]
    }
   ],
   "source": [
    "# Multiplication\n",
    "print(2*2)\n"
   ]
  },
  {
   "cell_type": "code",
   "execution_count": 26,
   "id": "fa043014",
   "metadata": {},
   "outputs": [
    {
     "name": "stdout",
     "output_type": "stream",
     "text": [
      "1.5\n"
     ]
    }
   ],
   "source": [
    "# Division\n",
    "print(3/2)"
   ]
  },
  {
   "cell_type": "markdown",
   "id": "ecedd1ef",
   "metadata": {},
   "source": [
    "### Arithmetic continued\n"
   ]
  },
  {
   "cell_type": "code",
   "execution_count": 27,
   "id": "6eca47dd",
   "metadata": {},
   "outputs": [
    {
     "data": {
      "text/plain": [
       "8"
      ]
     },
     "execution_count": 27,
     "metadata": {},
     "output_type": "execute_result"
    }
   ],
   "source": [
    "# Powers\n",
    "2**3"
   ]
  },
  {
   "cell_type": "code",
   "execution_count": 28,
   "id": "3cdade9b",
   "metadata": {},
   "outputs": [
    {
     "data": {
      "text/plain": [
       "105"
      ]
     },
     "execution_count": 28,
     "metadata": {},
     "output_type": "execute_result"
    }
   ],
   "source": [
    "# Order of Operations followed in Python\n",
    "2 + 10 * 10 + 3"
   ]
  },
  {
   "cell_type": "code",
   "execution_count": 29,
   "id": "09c1315a",
   "metadata": {},
   "outputs": [
    {
     "data": {
      "text/plain": [
       "156"
      ]
     },
     "execution_count": 29,
     "metadata": {},
     "output_type": "execute_result"
    }
   ],
   "source": [
    "# Can use parenthesis to specify orders\n",
    "(2+10) * (10+3)\n"
   ]
  },
  {
   "cell_type": "markdown",
   "id": "463bbc2c",
   "metadata": {},
   "source": [
    "## Data Types & Data Structures\n",
    "1. Everything in Python is an \"object\", including integers/floats\n",
    "2. Most common and important types (classes)\n",
    "- \"Single value\": None, int, float, bool, str, complex\n",
    "- \"Multiple values\": list, tuple, set, dict\n",
    "3. Single/Multiple isn't a real distinction, this is for explanation\n",
    "4. There are many others, but these are most frequently used"
   ]
  },
  {
   "cell_type": "code",
   "execution_count": 30,
   "id": "1465ccb6",
   "metadata": {},
   "outputs": [
    {
     "name": "stdout",
     "output_type": "stream",
     "text": [
      "<class 'int'>\n",
      "<class 'float'>\n"
     ]
    }
   ],
   "source": [
    "#Identifying Data Types\n",
    "a = 42\n",
    "b = 32.30\n",
    "print(type(a))#gets type of a\n",
    "print(type(b))#gets type of b"
   ]
  },
  {
   "cell_type": "markdown",
   "id": "4fa42827",
   "metadata": {},
   "source": [
    "### Single Value Types\n",
    "- int: Integers\n",
    "- float: Floating point numbers\n",
    "- bool: Boolean values (True, False)\n",
    "- complex: Complex numbers\n",
    "- str: String"
   ]
  },
  {
   "cell_type": "markdown",
   "id": "c6ed0784",
   "metadata": {},
   "source": [
    "### Lists\n",
    "- append: add element to end of list\n",
    "- insert: insert element at given index\n",
    "- extend: extend one list with another list"
   ]
  },
  {
   "cell_type": "code",
   "execution_count": 34,
   "id": "f4f76d0b",
   "metadata": {},
   "outputs": [
    {
     "data": {
      "text/plain": [
       "3"
      ]
     },
     "execution_count": 34,
     "metadata": {},
     "output_type": "execute_result"
    }
   ],
   "source": [
    "# Assign a list to an variable named my_list\n",
    "my_list = [1,2,3]\n",
    "len(my_list)"
   ]
  },
  {
   "cell_type": "code",
   "execution_count": 33,
   "id": "bf507500",
   "metadata": {},
   "outputs": [
    {
     "data": {
      "text/plain": [
       "4"
      ]
     },
     "execution_count": 33,
     "metadata": {},
     "output_type": "execute_result"
    }
   ],
   "source": [
    "my_list = ['A string',23,100.232,'o']\n",
    "len(my_list)"
   ]
  },
  {
   "cell_type": "markdown",
   "id": "5b29fa15",
   "metadata": {},
   "source": [
    "#### Adding New Elements to a list"
   ]
  },
  {
   "cell_type": "code",
   "execution_count": 35,
   "id": "4023db05",
   "metadata": {},
   "outputs": [
    {
     "name": "stdout",
     "output_type": "stream",
     "text": [
      "[1, 2.3, ['a', 'b'], 'New York', 3.1]\n"
     ]
    }
   ],
   "source": [
    "my_list = ['one','two','three',4,5]\n",
    "# append a value to the end of the list\n",
    "l = [1, 2.3, ['a', 'b'], 'New York']\n",
    "l.append(3.1)\n",
    "print(l)\n"
   ]
  },
  {
   "cell_type": "code",
   "execution_count": 36,
   "id": "d2e4116a",
   "metadata": {},
   "outputs": [
    {
     "name": "stdout",
     "output_type": "stream",
     "text": [
      "[1, 2, 3, 4, 5, 6]\n"
     ]
    }
   ],
   "source": [
    "# extend a list with another list.\n",
    "l = [1, 2, 3]\n",
    "l.extend([4, 5, 6])\n",
    "print(l)"
   ]
  },
  {
   "cell_type": "markdown",
   "id": "dfc081d0",
   "metadata": {},
   "source": [
    "#### Slicing\n",
    "The syntax for slicing lists is:\n",
    "- list_object[start:end:step] or\n",
    "- list_object[start:end]\n"
   ]
  },
  {
   "cell_type": "code",
   "execution_count": 38,
   "id": "930dec24",
   "metadata": {},
   "outputs": [
    {
     "name": "stdout",
     "output_type": "stream",
     "text": [
      "[0, 1, 2, 3, 4, 5, 6, 7, 8, 9]\n"
     ]
    }
   ],
   "source": [
    "lst = list(range(10)) # create a list containing 10 numbers starting from 0\n",
    "print(lst)"
   ]
  },
  {
   "cell_type": "code",
   "execution_count": 39,
   "id": "9b55a944",
   "metadata": {},
   "outputs": [
    {
     "name": "stdout",
     "output_type": "stream",
     "text": [
      "elements from index 4 to 7: [4, 5, 6]\n",
      "alternate elements, starting at index 0: [0, 2, 4, 6, 8]\n"
     ]
    }
   ],
   "source": [
    "print(\"elements from index 4 to 7:\", lst[4:7])\n",
    "print(\"alternate elements, starting at index 0:\", lst[0::2])\n"
   ]
  },
  {
   "cell_type": "code",
   "execution_count": 40,
   "id": "570d7f4b",
   "metadata": {},
   "outputs": [
    {
     "name": "stdout",
     "output_type": "stream",
     "text": [
      "every third element, starting at index 1: [1, 4, 7]\n"
     ]
    }
   ],
   "source": [
    "print(\"every third element, starting at index 1:\", lst[1::3])\n",
    "# prints elements from index 1 till last index with a step of 3\n"
   ]
  },
  {
   "cell_type": "markdown",
   "id": "3b5c6e36",
   "metadata": {},
   "source": [
    "### Dictionaries\n",
    "This section will serve as a brief introduction to dictionaries and consist of:\n",
    "1. Constructing a Dictionary\n",
    "2. Accessing objects from a dictionary\n",
    "3. Nesting Dictionaries\n",
    "4. Basic Dictionary Methods\n"
   ]
  },
  {
   "cell_type": "markdown",
   "id": "29f7faca",
   "metadata": {},
   "source": [
    "#### Constructing a Dictionary\n"
   ]
  },
  {
   "cell_type": "code",
   "execution_count": 41,
   "id": "a846e836",
   "metadata": {},
   "outputs": [
    {
     "data": {
      "text/plain": [
       "'value2'"
      ]
     },
     "execution_count": 41,
     "metadata": {},
     "output_type": "execute_result"
    }
   ],
   "source": [
    "# Make a dictionary with {} and : to signify a key and a value\n",
    "my_dict = {'key1':'value1','key2':'value2'}\n",
    "# Call values by their key\n",
    "my_dict['key2']\n"
   ]
  },
  {
   "cell_type": "code",
   "execution_count": 46,
   "id": "e2b55d93",
   "metadata": {},
   "outputs": [
    {
     "data": {
      "text/plain": [
       "{'key1': 123, 'key2': 'value2'}"
      ]
     },
     "execution_count": 46,
     "metadata": {},
     "output_type": "execute_result"
    }
   ],
   "source": [
    "my_dict['key1']=123\n",
    "my_dict"
   ]
  },
  {
   "cell_type": "code",
   "execution_count": 47,
   "id": "b070922d",
   "metadata": {},
   "outputs": [
    {
     "data": {
      "text/plain": [
       "0"
      ]
     },
     "execution_count": 47,
     "metadata": {},
     "output_type": "execute_result"
    }
   ],
   "source": [
    "# Subtract 123 from the value\n",
    "my_dict['key1'] = my_dict['key1'] - 123\n",
    "#Check\n",
    "my_dict['key1']\n"
   ]
  },
  {
   "cell_type": "code",
   "execution_count": 48,
   "id": "4da9f54e",
   "metadata": {},
   "outputs": [
    {
     "data": {
      "text/plain": [
       "-123"
      ]
     },
     "execution_count": 48,
     "metadata": {},
     "output_type": "execute_result"
    }
   ],
   "source": [
    "# Set the object equal to itself minus 123 \n",
    "my_dict['key1'] -= 123\n",
    "my_dict['key1']\n"
   ]
  },
  {
   "cell_type": "code",
   "execution_count": 50,
   "id": "0a270b5e",
   "metadata": {},
   "outputs": [
    {
     "data": {
      "text/plain": [
       "{'animal': 'Dog'}"
      ]
     },
     "execution_count": 50,
     "metadata": {},
     "output_type": "execute_result"
    }
   ],
   "source": [
    "# Create a new dictionary\n",
    "d = {}\n",
    "# Create a new key through assignment\n",
    "d['animal'] = 'Dog'\n",
    "d"
   ]
  },
  {
   "cell_type": "markdown",
   "id": "b04d936f",
   "metadata": {},
   "source": [
    "## Set and Booleans"
   ]
  },
  {
   "cell_type": "markdown",
   "id": "fcf6dd7d",
   "metadata": {},
   "source": [
    "### Sets\n",
    "Sets are an unordered collection of unique elements. We can construct them by using the set() function. "
   ]
  },
  {
   "cell_type": "code",
   "execution_count": 51,
   "id": "ae8eda3d",
   "metadata": {},
   "outputs": [
    {
     "data": {
      "text/plain": [
       "{1}"
      ]
     },
     "execution_count": 51,
     "metadata": {},
     "output_type": "execute_result"
    }
   ],
   "source": [
    "x = set()\n",
    "# We add to sets with the add() method\n",
    "x.add(1)\n",
    "#Show\n",
    "x"
   ]
  },
  {
   "cell_type": "code",
   "execution_count": 53,
   "id": "1e49593f",
   "metadata": {},
   "outputs": [
    {
     "data": {
      "text/plain": [
       "{1, 2}"
      ]
     },
     "execution_count": 53,
     "metadata": {},
     "output_type": "execute_result"
    }
   ],
   "source": [
    "# Add a different element\n",
    "x.add(2)\n",
    "#Show\n",
    "x"
   ]
  },
  {
   "cell_type": "code",
   "execution_count": 54,
   "id": "e684c799",
   "metadata": {},
   "outputs": [
    {
     "data": {
      "text/plain": [
       "{1, 2}"
      ]
     },
     "execution_count": 54,
     "metadata": {},
     "output_type": "execute_result"
    }
   ],
   "source": [
    "#Try to add the same element\n",
    "x.add(1)\n",
    "#Show\n",
    "x"
   ]
  },
  {
   "cell_type": "markdown",
   "id": "d79b01d0",
   "metadata": {},
   "source": [
    "Notice how it won't place another 1 there. That's because a set is only concerned with \n",
    "unique elements! We can cast a list with multiple repeat elements to a set to get the unique \n",
    "elements"
   ]
  },
  {
   "cell_type": "code",
   "execution_count": 55,
   "id": "b6d3bbea",
   "metadata": {},
   "outputs": [
    {
     "data": {
      "text/plain": [
       "{1, 2, 3, 4, 5, 6}"
      ]
     },
     "execution_count": 55,
     "metadata": {},
     "output_type": "execute_result"
    }
   ],
   "source": [
    "# Create a list with repeats\n",
    "l = [1,1,2,2,3,4,5,6,1,1]\n",
    "# Cast as set to get unique values\n",
    "set(l)\n"
   ]
  }
 ],
 "metadata": {
  "kernelspec": {
   "display_name": "Python 3 (ipykernel)",
   "language": "python",
   "name": "python3"
  },
  "language_info": {
   "codemirror_mode": {
    "name": "ipython",
    "version": 3
   },
   "file_extension": ".py",
   "mimetype": "text/x-python",
   "name": "python",
   "nbconvert_exporter": "python",
   "pygments_lexer": "ipython3",
   "version": "3.9.7"
  }
 },
 "nbformat": 4,
 "nbformat_minor": 5
}
