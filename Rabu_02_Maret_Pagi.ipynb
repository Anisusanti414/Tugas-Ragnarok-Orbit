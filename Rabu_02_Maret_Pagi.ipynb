{
 "cells": [
  {
   "cell_type": "markdown",
   "id": "6a8c81e9",
   "metadata": {},
   "source": [
    "1. Berikut ini adalah tiga variabel yang menyimpan value dengan tipe boolean. Dengan menggunakan variabel tersebut, cobalah untuk mengerjakan soal 1 - 5 ! (Akan lebih seru jika kamu menebak terlebih dahulu hasilnya, kemudian baru implementasikan ke dalam kode program. Jika terdapat error, cobalah untuk menyelesaikannya sendiri terlebih dahulu).\n",
    "- a = False\n",
    "- b = True\n",
    "- c = False\n"
   ]
  },
  {
   "cell_type": "markdown",
   "id": "6a1e3b7f",
   "metadata": {},
   "source": [
    "1. b and c\n",
    "2. b or c\n",
    "3. not a and b\n",
    "4. (a and b) or not c\n",
    "5. not b and not (a or c\n",
    "\n"
   ]
  },
  {
   "cell_type": "code",
   "execution_count": 1,
   "id": "d0870dd6",
   "metadata": {},
   "outputs": [],
   "source": [
    "a = False\n",
    "b = True\n",
    "c = False"
   ]
  },
  {
   "cell_type": "code",
   "execution_count": 5,
   "id": "5b250c35",
   "metadata": {},
   "outputs": [
    {
     "name": "stdout",
     "output_type": "stream",
     "text": [
      "False\n",
      "True\n",
      "True\n",
      "True\n",
      "False\n"
     ]
    }
   ],
   "source": [
    "print(b and c)\n",
    "print(b or c)\n",
    "print( not a and b)\n",
    "print ((a and b) or not c)\n",
    "print(not b and not (a or c))"
   ]
  },
  {
   "cell_type": "markdown",
   "id": "eb17905a",
   "metadata": {},
   "source": [
    "2. Di bawah ini terdapat potongan kode program yang masih terdapat error (bug). Selesaikan permasalahan bug tersebut menggunakan pemahaman yang sudah dipelajari!"
   ]
  },
  {
   "cell_type": "code",
   "execution_count": 12,
   "id": "42f3923d",
   "metadata": {},
   "outputs": [
    {
     "name": "stdout",
     "output_type": "stream",
     "text": [
      "Hello!\n",
      "Enter something :Ani\n",
      "Ani\n"
     ]
    }
   ],
   "source": [
    "print(\"Hello!\")\n",
    "something = input(\"Enter something :\")\n",
    "print(something)"
   ]
  },
  {
   "cell_type": "markdown",
   "id": "3a7f5441",
   "metadata": {},
   "source": [
    "3. Lakukan hal yang sama seperti pada soal nomor 2!"
   ]
  },
  {
   "cell_type": "code",
   "execution_count": 17,
   "id": "643e66ea",
   "metadata": {},
   "outputs": [
    {
     "name": "stdout",
     "output_type": "stream",
     "text": [
      "Hello!\n",
      " Say something : sedih\n",
      "I don't know what sedih means.\n"
     ]
    }
   ],
   "source": [
    "print('Hello!')\n",
    "something = input(' Say something : ')\n",
    "if something == 'hello':\n",
    "    print('Hello for you too!')\n",
    "    \n",
    "elif something == 'hi':\n",
    "    print('Hi there!')\n",
    "else:\n",
    "    print(\"I don't know what\", something, \"means.\")"
   ]
  },
  {
   "cell_type": "markdown",
   "id": "2528d5c3",
   "metadata": {},
   "source": [
    "4. Buatlah program yang dapat mencetak kata halo dan hai sebanyak 100 kali. contoh: halo hai halo hai … 98x !. Pastikan terdapat spasi di antara setiap perulangan kata!"
   ]
  },
  {
   "cell_type": "code",
   "execution_count": 22,
   "id": "6fcaa82a",
   "metadata": {},
   "outputs": [
    {
     "name": "stdout",
     "output_type": "stream",
     "text": [
      "1 hallo hai\n",
      "2 hallo hai\n",
      "3 hallo hai\n",
      "4 hallo hai\n",
      "5 hallo hai\n",
      "6 hallo hai\n",
      "7 hallo hai\n",
      "8 hallo hai\n",
      "9 hallo hai\n",
      "10 hallo hai\n",
      "11 hallo hai\n",
      "12 hallo hai\n",
      "13 hallo hai\n",
      "14 hallo hai\n",
      "15 hallo hai\n",
      "16 hallo hai\n",
      "17 hallo hai\n",
      "18 hallo hai\n",
      "19 hallo hai\n",
      "20 hallo hai\n",
      "21 hallo hai\n",
      "22 hallo hai\n",
      "23 hallo hai\n",
      "24 hallo hai\n",
      "25 hallo hai\n",
      "26 hallo hai\n",
      "27 hallo hai\n",
      "28 hallo hai\n",
      "29 hallo hai\n",
      "30 hallo hai\n",
      "31 hallo hai\n",
      "32 hallo hai\n",
      "33 hallo hai\n",
      "34 hallo hai\n",
      "35 hallo hai\n",
      "36 hallo hai\n",
      "37 hallo hai\n",
      "38 hallo hai\n",
      "39 hallo hai\n",
      "40 hallo hai\n",
      "41 hallo hai\n",
      "42 hallo hai\n",
      "43 hallo hai\n",
      "44 hallo hai\n",
      "45 hallo hai\n",
      "46 hallo hai\n",
      "47 hallo hai\n",
      "48 hallo hai\n",
      "49 hallo hai\n",
      "50 hallo hai\n",
      "51 hallo hai\n",
      "52 hallo hai\n",
      "53 hallo hai\n",
      "54 hallo hai\n",
      "55 hallo hai\n",
      "56 hallo hai\n",
      "57 hallo hai\n",
      "58 hallo hai\n",
      "59 hallo hai\n",
      "60 hallo hai\n",
      "61 hallo hai\n",
      "62 hallo hai\n",
      "63 hallo hai\n",
      "64 hallo hai\n",
      "65 hallo hai\n",
      "66 hallo hai\n",
      "67 hallo hai\n",
      "68 hallo hai\n",
      "69 hallo hai\n",
      "70 hallo hai\n",
      "71 hallo hai\n",
      "72 hallo hai\n",
      "73 hallo hai\n",
      "74 hallo hai\n",
      "75 hallo hai\n",
      "76 hallo hai\n",
      "77 hallo hai\n",
      "78 hallo hai\n",
      "79 hallo hai\n",
      "80 hallo hai\n",
      "81 hallo hai\n",
      "82 hallo hai\n",
      "83 hallo hai\n",
      "84 hallo hai\n",
      "85 hallo hai\n",
      "86 hallo hai\n",
      "87 hallo hai\n",
      "88 hallo hai\n",
      "89 hallo hai\n",
      "90 hallo hai\n",
      "91 hallo hai\n",
      "92 hallo hai\n",
      "93 hallo hai\n",
      "94 hallo hai\n",
      "95 hallo hai\n",
      "96 hallo hai\n",
      "97 hallo hai\n",
      "98 hallo hai\n",
      "99 hallo hai\n",
      "100 hallo hai\n"
     ]
    }
   ],
   "source": [
    "for i in range (1,101):\n",
    "    print(i, \"hallo hai\")"
   ]
  },
  {
   "cell_type": "code",
   "execution_count": 25,
   "id": "d620955a",
   "metadata": {},
   "outputs": [
    {
     "name": "stdout",
     "output_type": "stream",
     "text": [
      " Pemenang Pemain 1\n",
      "Seri\n",
      " Pemenang Pemain 1\n",
      " Pemenang Pemain 2\n",
      " Pemenang Pemain 2\n"
     ]
    }
   ],
   "source": [
    "Pemain1 = ['batu', 'gunting','kertas','gunting','batu']\n",
    "Pemain2 = ['gunting','guting','batu','batu', 'kertas']\n",
    "for i in range(0, len(Pemain1)):\n",
    "    if (Pemain1[i] =='batu') and (Pemain2[i] == 'gunting'):\n",
    "        print(' Pemenang Pemain 1')\n",
    "    elif (Pemain1[i] =='gunting') and (Pemain2[i] == 'kertas'):\n",
    "        print(' Pemenang Pemain 1')\n",
    "    elif (Pemain1[i] =='kertas') and (Pemain2[i] == 'batu'):\n",
    "        print(' Pemenang Pemain 1')\n",
    "    elif (Pemain1[i] =='batu') and (Pemain2[i] == 'kertas'):\n",
    "        print(' Pemenang Pemain 2')\n",
    "    elif (Pemain1[i] =='gunting') and (Pemain2[i] == 'batu'):\n",
    "        print(' Pemenang Pemain 2')\n",
    "    elif (Pemain1[i] =='kertas') and (Pemain2[i] == 'gunting'):\n",
    "        print(' Pemenang Pemain 2')\n",
    "    else:\n",
    "        print ('Seri')"
   ]
  },
  {
   "cell_type": "markdown",
   "id": "a7b3fdaa",
   "metadata": {},
   "source": [
    "b.\tTulislah semua kemungkinan ke dalam kode program. Input yang valid hanyalah “batu”, “ gunting” dan “kertas” tanpa tanda kutip. Selain dari input tersebut program akan menghasilkan output berupa teks “Input tidak valid!. Gunakan “batu”, “ gunting” dan “kertas” tanpa tanda kutip!”"
   ]
  },
  {
   "cell_type": "code",
   "execution_count": 2,
   "id": "90bd7128",
   "metadata": {},
   "outputs": [
    {
     "name": "stdout",
     "output_type": "stream",
     "text": [
      "batu kertas gunting :batu\n",
      "batu\n"
     ]
    }
   ],
   "source": [
    "a = input(str(\"batu kertas gunting :\"))\n",
    "if a == 'batu':\n",
    "    print(a)\n",
    "elif a == 'kertas':\n",
    "    print(a)\n",
    "elif a =='gunting':\n",
    "    print(a)\n",
    "else:\n",
    "    print('Input tidak valid!')"
   ]
  },
  {
   "cell_type": "markdown",
   "id": "64562ca7",
   "metadata": {},
   "source": [
    "6. Buatlah program sederhana yang menerima input secara terus menerus, akan tetapi ketika input berupa string “berhenti”, maka program tersebut akan berhenti berjalan!"
   ]
  },
  {
   "cell_type": "code",
   "execution_count": 2,
   "id": "2b6e49b6",
   "metadata": {},
   "outputs": [
    {
     "name": "stdout",
     "output_type": "stream",
     "text": [
      "Please enter the number: 3\n",
      "Please enter the number: 4\n",
      "Please enter the number: 5\n",
      "Please enter the number: 6\n",
      "Please enter the number: 7\n",
      "Please enter the number: 8\n",
      "Please enter the number: h\n"
     ]
    },
    {
     "ename": "ValueError",
     "evalue": "invalid literal for int() with base 10: 'h'",
     "output_type": "error",
     "traceback": [
      "\u001b[1;31m---------------------------------------------------------------------------\u001b[0m",
      "\u001b[1;31mValueError\u001b[0m                                Traceback (most recent call last)",
      "Input \u001b[1;32mIn [2]\u001b[0m, in \u001b[0;36m<module>\u001b[1;34m\u001b[0m\n\u001b[0;32m      1\u001b[0m play \u001b[38;5;241m=\u001b[39m \u001b[38;5;28;01mTrue\u001b[39;00m\n\u001b[0;32m      3\u001b[0m \u001b[38;5;28;01mwhile\u001b[39;00m play:\n\u001b[1;32m----> 5\u001b[0m     a \u001b[38;5;241m=\u001b[39m \u001b[38;5;28;43mint\u001b[39;49m\u001b[43m(\u001b[49m\u001b[38;5;28;43minput\u001b[39;49m\u001b[43m(\u001b[49m\u001b[38;5;124;43m\"\u001b[39;49m\u001b[38;5;124;43mPlease enter the number: \u001b[39;49m\u001b[38;5;124;43m\"\u001b[39;49m\u001b[43m)\u001b[49m\u001b[43m)\u001b[49m\n\u001b[0;32m      7\u001b[0m     \u001b[38;5;28;01mwhile\u001b[39;00m \u001b[38;5;28;01mTrue\u001b[39;00m:\n\u001b[0;32m      8\u001b[0m         \u001b[38;5;28;01mif\u001b[39;00m \u001b[38;5;28mtype\u001b[39m(a) \u001b[38;5;241m!=\u001b[39m \u001b[38;5;28mstr\u001b[39m:\n",
      "\u001b[1;31mValueError\u001b[0m: invalid literal for int() with base 10: 'h'"
     ]
    }
   ],
   "source": [
    "play = True\n",
    "\n",
    "while play:\n",
    "\n",
    "    a = int(input(\"Please enter the number: \"))\n",
    "\n",
    "    while True:\n",
    "        if type(a) != str:\n",
    "            play = True\n",
    "            break\n",
    "        elif type(a) == str:\n",
    "            play = False\n",
    "            break"
   ]
  },
  {
   "cell_type": "markdown",
   "id": "35e85d8c",
   "metadata": {},
   "source": [
    "7. Dengan menggunakan konsep yang sama pada soal nomor 6, buatlah program yang dapat menampilkan menu makanan atau tertentu (minimal 3 menu). Pengguna dapat memilih salah satu dari menu yang disediakan dan menampilkan kembali menu yang dipesan beserta harganya. Program akan berhenti berjalan apabila input dari pengguna berupa string “cukup”."
   ]
  },
  {
   "cell_type": "markdown",
   "id": "179d3dd9",
   "metadata": {},
   "source": [
    "Contoh:\n",
    "MENU JAJANAN PASAR\n",
    "1.\tDonat - Rp 1250\n",
    "2.\tBakwan - Rp 1000\n",
    "3.\tOnde-onde - Rp 800\n",
    "4.\tLemper  - Rp 1250\n",
    "5.\tRisol - Rp 1500 \n",
    "\n",
    "input user: 2\n",
    "\n",
    "Kamu memesan Bakwan dengan harga Rp 1000, terima kasih sudah berbelanja!\n",
    "input user: cukup\n",
    "Terima kasih sudah berbelanja jajanan pasar kami!\n"
   ]
  },
  {
   "cell_type": "code",
   "execution_count": 22,
   "id": "3abbb7cb",
   "metadata": {},
   "outputs": [
    {
     "name": "stdout",
     "output_type": "stream",
     "text": [
      "Selamat Datang, Silakan pesan menunya >_<\n",
      "MENU JAJANAN PASAR\n",
      "    1.Donat - Rp 1250\n",
      "    2.Bakwan - Rp 1000\n",
      "    3.Onde-onde - Rp 800\n",
      "    4.Lemper  - Rp 1250\n",
      "    5.Risol - Rp 1500 \n",
      "\n",
      "\n",
      "Please enter your menu: Donat\n",
      "Kamu memesan Donat dengan harga Rp 1250\n",
      "Would you like to try again?: yes\n",
      "Please enter your menu: Lemper\n",
      "Kamu memesan Lemper dengan harga Rp 1250\n",
      "Would you like to try again?: yes\n",
      "Please enter your menu: ani\n",
      "Menu yang kamu pilih tidak ada dalam daftar menu\n",
      "Would you like to try again?: yes\n",
      "Please enter your menu: Onde-onde\n",
      "Kamu memesan Onde-onde dengan harga Rp 800\n",
      "Would you like to try again?: no\n",
      "Terima kasih sudah berbelanja jajanan pasar kami!\n"
     ]
    }
   ],
   "source": [
    "print(\"Selamat Datang, Silakan pesan menunya >_<\")\n",
    "print(\"\"\"MENU JAJANAN PASAR\n",
    "    1.Donat - Rp 1250\n",
    "    2.Bakwan - Rp 1000\n",
    "    3.Onde-onde - Rp 800\n",
    "    4.Lemper  - Rp 1250\n",
    "    5.Risol - Rp 1500 \n",
    "\n",
    "\"\"\")\n",
    "play = True\n",
    "\n",
    "while play:\n",
    "\n",
    "    menu = input(\"Please enter your menu: \")\n",
    "    if menu == 'Donat':\n",
    "        print(\"Kamu memesan\", menu, \"dengan harga Rp 1250\")\n",
    "    elif menu == \"Bakwan\":\n",
    "        print(\"Kamu memesan\", menu, \"dengan harga Rp 1000\")\n",
    "    elif menu == \"Onde-onde\":\n",
    "        print(\"Kamu memesan\", menu, \"dengan harga Rp 800\")\n",
    "    elif menu == \"Lemper\":\n",
    "        print(\"Kamu memesan\", menu, \"dengan harga Rp 1250\")    \n",
    "    elif menu == \"Risol\":\n",
    "        print(\"Kamu memesan\", menu, \"dengan harga Rp 1500\")   \n",
    "    else:\n",
    "        print(\"Menu yang kamu pilih tidak ada dalam daftar menu\")\n",
    "   \n",
    "    answer = input(\"Would you like to try again?: \").lower()\n",
    "    while True:\n",
    "        if answer == 'yes':\n",
    "            play = True\n",
    "            break\n",
    "        elif answer == 'no':\n",
    "            print(\"Terima kasih sudah berbelanja jajanan pasar kami!\")\n",
    "            play = False\n",
    "            break\n",
    "        else:\n",
    "            answer = input('Incorrect option. Type \"YES\" to try again or \"NO\" to leave\": ').lower()"
   ]
  },
  {
   "cell_type": "markdown",
   "id": "e8ff6498",
   "metadata": {},
   "source": [
    "8. Buat program pada nomor 8 menjadi sedikit lebih kompleks dengan studi kasus tambahan apabila pengguna ingin membeli 10 Bakwan!"
   ]
  },
  {
   "cell_type": "code",
   "execution_count": 8,
   "id": "951bb274",
   "metadata": {},
   "outputs": [
    {
     "name": "stdout",
     "output_type": "stream",
     "text": [
      "Selamat Datang, Silakan pesan menunya >_<\n",
      "MENU JAJANAN PASAR\n",
      "    1.Donat - Rp 1250\n",
      "    2.Bakwan - Rp 1000\n",
      "    3.Onde-onde - Rp 800\n",
      "    4.Lemper  - Rp 1250\n",
      "    5.Risol - Rp 1500 \n",
      "\n",
      "\n",
      "Silakan Masukan nomor menu yang anda pilih :5\n",
      "Berapa buah yang ingin di pesan untuk menu tersebut? :10\n",
      "Total yang harus anda bayar untuk 10 Risol adalah 15000\n"
     ]
    }
   ],
   "source": [
    "print(\"Selamat Datang, Silakan pesan menunya >_<\")\n",
    "print(\"\"\"MENU JAJANAN PASAR\n",
    "    1.Donat - Rp 1250\n",
    "    2.Bakwan - Rp 1000\n",
    "    3.Onde-onde - Rp 800\n",
    "    4.Lemper  - Rp 1250\n",
    "    5.Risol - Rp 1500 \n",
    "\n",
    "\"\"\")\n",
    "Donat = 1250\n",
    "Bakwan = 1000\n",
    "Onde2 = 800\n",
    "Lemper = 1250\n",
    "Risol = 1500\n",
    "menu=int(input(\"Silakan Masukan nomor menu yang anda pilih :\"))\n",
    "jumlah = int(input(\"Berapa buah yang ingin di pesan untuk menu tersebut? :\"))\n",
    "if menu == 1:\n",
    "    print(\"Total yang harus anda bayar untuk\",jumlah, \"Donat adalah\", Donat*jumlah)\n",
    "elif menu == 2:\n",
    "    print(\"Total yang harus anda bayar untuk\",jumlah, \"Bakwan adalah\", Bakwan*jumlah)\n",
    "elif menu == 3:\n",
    "    print(\"Total yang harus anda bayar untuk\",jumlah, \"Onde-onde adalah\", Onde-onde*jumlah)\n",
    "elif menu == 4:\n",
    "    print(\"Total yang harus anda bayar untuk\",jumlah, \"Lemper adalah\", Lemper*jumlah)\n",
    "elif menu == 5:\n",
    "    print(\"Total yang harus anda bayar untuk\",jumlah, \"Risol adalah\", Risol*jumlah)\n",
    "else:\n",
    "    print(\"Menu yang anda pilih tidak ada dalam daftar\")"
   ]
  }
 ],
 "metadata": {
  "kernelspec": {
   "display_name": "Python 3 (ipykernel)",
   "language": "python",
   "name": "python3"
  },
  "language_info": {
   "codemirror_mode": {
    "name": "ipython",
    "version": 3
   },
   "file_extension": ".py",
   "mimetype": "text/x-python",
   "name": "python",
   "nbconvert_exporter": "python",
   "pygments_lexer": "ipython3",
   "version": "3.9.7"
  }
 },
 "nbformat": 4,
 "nbformat_minor": 5
}
