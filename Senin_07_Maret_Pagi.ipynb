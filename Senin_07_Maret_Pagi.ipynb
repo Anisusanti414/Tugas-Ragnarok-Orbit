{
 "cells": [
  {
   "cell_type": "markdown",
   "id": "d8c7d1ce",
   "metadata": {},
   "source": [
    "## Membuat 3 OOP beserta turunannya dari objek sekitar"
   ]
  },
  {
   "cell_type": "markdown",
   "id": "be6fec9b",
   "metadata": {},
   "source": [
    "### Encapsulation"
   ]
  },
  {
   "cell_type": "code",
   "execution_count": 2,
   "id": "6450c6c7",
   "metadata": {},
   "outputs": [
    {
     "name": "stdout",
     "output_type": "stream",
     "text": [
      "nama: Ani, usia: 22, prodi: Matematika, fakultas: STEM\n",
      "Data Mahasiswa\n"
     ]
    }
   ],
   "source": [
    "nama = \"Ani\"\n",
    "usia = 22\n",
    "prodi = \"Matematika\"\n",
    "fakultas = \"STEM\"\n",
    "\n",
    "def data():\n",
    "    print(\"Data Mahasiswa\")\n",
    "\n",
    "def data_mahasiswa(nama, usia, prodi, fakultas):\n",
    "    print(f\"nama: {nama}, usia: {usia}, prodi: {prodi}, fakultas: {fakultas}\")\n",
    "\n",
    "data_mahasiswa(nama, usia, prodi, fakultas)\n",
    "data()"
   ]
  },
  {
   "cell_type": "code",
   "execution_count": null,
   "id": "13bb1489",
   "metadata": {},
   "outputs": [],
   "source": [
    "class Hewan(object):\n",
    "    \n",
    "    nama_hewan = \"\"\n",
    "    def __init__(ini, input_nama, input_usia, input_warna, input_jenis):\n",
    "        ini.nama = input_nama\n",
    "        ini.usia = input_usia\n",
    "        ini.warna = input_warna\n",
    "        ini.jenis = input_jenis\n",
    "        Hewan.nama_hewan = input_nama\n",
    "    \n",
    "    def suara(ini):\n",
    "        print(\"kukuruyuk....\", ini.nama)\n",
    "    \n",
    "    def info(ini):\n",
    "        print(f\"nama : {ini.nama}, usia: {ini.usia}, warna: {ini.warna}, jenis: {ini.jenis}\")\n",
    "        \n",
    "hewan1 = Hewan(\"Jagur\", 4, \"Hitam\", \"Ayam Jago\")\n",
    "\n",
    "hewan1.info()\n",
    "hewan1.suara()\n",
    "hewan1.warna"
   ]
  },
  {
   "cell_type": "code",
   "execution_count": 6,
   "id": "28740f8f",
   "metadata": {},
   "outputs": [
    {
     "name": "stdout",
     "output_type": "stream",
     "text": [
      "nama : Ani, usia: 22, warna: Matematika, jenis: STEM\n",
      "None\n",
      "student.... Ani\n",
      "None\n",
      "Matematika\n"
     ]
    }
   ],
   "source": [
    "class Mahasiswa(object):\n",
    "    \n",
    "    nama_mahasiswa = \"\"\n",
    "    def __init__(data, input_nama, input_usia, input_prodi, input_fakultas):\n",
    "        data.nama = input_nama\n",
    "        data.usia = input_usia\n",
    "        data.prodi = input_prodi\n",
    "        data.fakultas = input_fakultas\n",
    "        Mahasiswa.nama_mahasiswa = input_nama\n",
    "    \n",
    "    def status(data):\n",
    "        print(\"student....\", data.nama)\n",
    "    \n",
    "    def info(data):\n",
    "        print(f\"nama : {data.nama}, usia: {data.usia}, warna: {data.prodi}, jenis: {data.fakultas}\")\n",
    "        \n",
    "mahasiswa1 = Mahasiswa(\"Ani\", 22, \"Matematika\", \"STEM\")\n",
    "\n",
    "print(mahasiswa1.info())\n",
    "print(mahasiswa1.status())\n",
    "print(mahasiswa1.prodi)"
   ]
  },
  {
   "cell_type": "markdown",
   "id": "d325d6a6",
   "metadata": {},
   "source": [
    "## **Inheritence**"
   ]
  },
  {
   "cell_type": "code",
   "execution_count": 23,
   "id": "1c5a2bac",
   "metadata": {},
   "outputs": [
    {
     "name": "stdout",
     "output_type": "stream",
     "text": [
      "ddrrr... ddrrr... \n",
      "ddrrr... ddrrr... \n",
      "nama: SISO, periode: 2, bidang: Bem Fakultas, alamat: BSD\n"
     ]
    }
   ],
   "source": [
    "class Komunitas(object):\n",
    "    def __init__(self, nama, periode, bidang, alamat):\n",
    "        self.nama = nama\n",
    "        self.periode = periode\n",
    "        self.bidang = bidang\n",
    "        self.alamat = alamat\n",
    "\n",
    "    def __long(self, durasi):\n",
    "        for x in range(durasi):\n",
    "            print(\"ddrrr... ddrrr... \")\n",
    "\n",
    "    def info(self):\n",
    "        self.__long(2)\n",
    "        print(f\"nama: {self.nama}, periode: {self.periode}, bidang: {self.bidang}, alamat: {self.alamat}\")\n",
    "\n",
    "komunitas1 = Komunitas(\"SISO\", 2, \"Bem Fakultas\", \"BSD\")\n",
    "\n",
    "komunitas1.info()"
   ]
  },
  {
   "cell_type": "code",
   "execution_count": 25,
   "id": "8c45df7d",
   "metadata": {},
   "outputs": [
    {
     "name": "stdout",
     "output_type": "stream",
     "text": [
      "ddrrr... ddrrr... \n",
      "ddrrr... ddrrr... \n",
      "nama: SISO, periode: 2, bidang: BEM Fakultas, alamat: BSD\n",
      "jabatan: BPH, masih_aktif: True\n"
     ]
    }
   ],
   "source": [
    "class Departemen(Komunitas):\n",
    "    def __init__(self, nama, periode, bidang, alamat, jabatan, masih_aktif):\n",
    "        super().__init__(nama, periode, bidang, alamat)\n",
    "        self.jabatan = jabatan\n",
    "        self.masih_aktif = masih_aktif\n",
    "\n",
    "    def status(self):\n",
    "        super()._long(2)\n",
    "        print(\"yaaaaaaa\")\n",
    "\n",
    "    def info_departemen(self):\n",
    "        self.info()\n",
    "        print(f\"jabatan: {self.jabatan}, masih_aktif: {self.masih_aktif}\")\n",
    "\n",
    "departemen1 = Departemen(\"SISO\", 2, \"BEM Fakultas\", \"BSD\", \"BPH\", True)\n",
    "\n",
    "departemen1.info_departemen()\n",
    "#departemen1.status()"
   ]
  },
  {
   "cell_type": "markdown",
   "id": "7fc9184f",
   "metadata": {},
   "source": [
    "# Abstraction"
   ]
  },
  {
   "cell_type": "code",
   "execution_count": 26,
   "id": "9e5897c7",
   "metadata": {},
   "outputs": [],
   "source": [
    "from abc import abstractmethod, ABC"
   ]
  },
  {
   "cell_type": "code",
   "execution_count": 27,
   "id": "7315fd76",
   "metadata": {},
   "outputs": [
    {
     "name": "stdout",
     "output_type": "stream",
     "text": [
      "We are inside test_class task\n",
      "Passed value:  100\n",
      "a\n",
      "We are inside example_class task\n",
      "Passed value:  200\n",
      "test_obj is instance of Absclass?  True\n",
      "example_obj is instance of Absclass?  True\n"
     ]
    }
   ],
   "source": [
    "class Absclass(ABC):\n",
    "    #Method biasa\n",
    "    def cetak(self,x):\n",
    "        print(\"Passed value: \", x)\n",
    "    \n",
    "    #Abstract Method\n",
    "    @abstractmethod\n",
    "    def task(self):\n",
    "        pass\n",
    "\n",
    "        \n",
    "class test_class(Absclass):\n",
    "    def task(self):\n",
    "        print(\"We are inside test_class task\")\n",
    "\n",
    "    def cetak2(self):\n",
    "        print('a')\n",
    "        \n",
    "        \n",
    "class example_class(Absclass):\n",
    "    def task(self):\n",
    "        print(\"We are inside example_class task\")\n",
    "\n",
    "\n",
    "#object of test_class created\n",
    "test_obj = test_class()\n",
    "test_obj.task()\n",
    "test_obj.cetak(100)\n",
    "test_obj.cetak2()\n",
    "\n",
    "\n",
    "#object of example_class created\n",
    "example_obj = example_class()\n",
    "example_obj.task()\n",
    "example_obj.cetak(200)\n",
    " \n",
    "print(\"test_obj is instance of Absclass? \", isinstance(test_obj, Absclass))\n",
    "print(\"example_obj is instance of Absclass? \", isinstance(example_obj, Absclass))"
   ]
  },
  {
   "cell_type": "code",
   "execution_count": 28,
   "id": "4070601e",
   "metadata": {},
   "outputs": [],
   "source": [
    "class MataKuliah(ABC):\n",
    "    \n",
    "    @abstractmethod\n",
    "    def suara(self):\n",
    "        pass\n",
    "    \n",
    "class MTK(MataKuliah):\n",
    "    def suara(self):\n",
    "        print(\"hueeek\")\n",
    "        \n",
    "class IPA(MataKuliah):\n",
    "    def suara(self):\n",
    "        print(\"okee\")"
   ]
  },
  {
   "cell_type": "code",
   "execution_count": 29,
   "id": "89b2d733",
   "metadata": {},
   "outputs": [
    {
     "name": "stdout",
     "output_type": "stream",
     "text": [
      "hueeek\n",
      "okee\n"
     ]
    }
   ],
   "source": [
    "mtk1 = MTK()\n",
    "\n",
    "ipa1 = IPA()\n",
    "\n",
    "mtk1.suara()\n",
    "ipa1.suara()"
   ]
  },
  {
   "cell_type": "markdown",
   "id": "d696604b",
   "metadata": {},
   "source": [
    "## **Polymorphism**\n",
    "\n",
    "pada contoh dibawah kita bisa lihat contoh polymorphism, dimana kita bisa melihat kalau kelas binatang dapat diturunkan menjadi beberapa class seperti ikan dan panda"
   ]
  },
  {
   "cell_type": "code",
   "execution_count": 30,
   "id": "56f10497",
   "metadata": {},
   "outputs": [
    {
     "name": "stdout",
     "output_type": "stream",
     "text": [
      "nama: Bumi, usia: 1000000, lokasi: ketiga terdekat dari matahari\n",
      "warna: hijau, jada_manusia: True\n",
      "ddrrr... ddrrr... \n",
      "ddrrr... ddrrr... \n",
      "ddrrr... ddrrr... \n",
      "ddrrr... ddrrr... \n",
      "ddrrr... ddrrr... \n",
      "nama: Saturnus, usia: 20000000, lokasi: terdekat ke 6 dari matahari\n",
      "ddrrr... ddrrr... \n",
      "ddrrr... ddrrr... \n",
      "kenyaang\n"
     ]
    }
   ],
   "source": [
    "class planet(object):\n",
    "  def __init__(self, nama, usia, lokasi):\n",
    "    self.nama = nama\n",
    "    self.usia = usia\n",
    "    self.lokasi = lokasi\n",
    "\n",
    "\n",
    "  def tidur(self, durasi):\n",
    "    for x in range(durasi):\n",
    "      print(\"ddrrr... ddrrr... \")\n",
    "\n",
    "  def info(self):\n",
    "    print(f\"nama: {self.nama}, usia: {self.usia}, lokasi: {self.lokasi}\")\n",
    "\n",
    "\n",
    "class Bumi(planet):\n",
    "  def __init__(self,  nama, usia, lokasi, warna, ada_manusia):\n",
    "    super().__init__(nama, usia, lokasi)\n",
    "    self.warna = warna\n",
    "    self.ada_manusia= ada_manusia\n",
    "  \n",
    "  def manusia(self, durasi):\n",
    "    print(\"yes... yes... \")\n",
    "\n",
    "  def info_bumi(self):\n",
    "    print(f\"warna: {self.warna}, jada_manusia: {self.ada_manusia}\")\n",
    "\n",
    "class Saturnus(planet):\n",
    "  def __init__(self, nama, usia, lokasi, warna, ciri2):\n",
    "    super().__init__(nama, usia, lokasi)\n",
    "    self.warna = warna\n",
    "    self.ciri2= ciri2\n",
    "  \n",
    "  def makan_ayam(self, human):\n",
    "    if human >=5 :\n",
    "      print(\"kenyaang\")\n",
    "    else:\n",
    "      print(\"lapaar\")\n",
    "\n",
    "bumi1 = Bumi(\"Bumi\", 1000000, \"ketiga terdekat dari matahari\", \"hijau\", True)\n",
    "\n",
    "bumi1.info()\n",
    "bumi1.info_bumi()\n",
    "bumi1.tidur(5)\n",
    "\n",
    "\n",
    "satur1 = Saturnus(\"Saturnus\", 20000000, \"terdekat ke 6 dari matahari\", \"range\",\"ada cincinnya\")\n",
    "\n",
    "satur1.info()\n",
    "satur1.tidur(2)\n",
    "satur1.makan_ayam(5)"
   ]
  },
  {
   "cell_type": "code",
   "execution_count": null,
   "id": "6d9a3352",
   "metadata": {},
   "outputs": [],
   "source": []
  },
  {
   "cell_type": "code",
   "execution_count": null,
   "id": "62847dcf",
   "metadata": {},
   "outputs": [],
   "source": []
  },
  {
   "cell_type": "code",
   "execution_count": 31,
   "id": "89386e8a",
   "metadata": {},
   "outputs": [],
   "source": [
    "from abc import abstractmethod, ABC\n",
    "\n",
    "#Class\n",
    "class operational(ABC):\n",
    "    \n",
    "    #Abstract Method\n",
    "    @abstractmethod\n",
    "    def calculate_operasi(self):\n",
    "        pass\n",
    "\n",
    "    \n",
    "class perkalian(operational):\n",
    "    \"\"\"Kelas untuk membuat sebuah objek lingkaran\"\"\"\n",
    "\n",
    "    def __init__(self, radius):\n",
    "        self.radius = radius\n",
    "\n",
    "    def calculate_area(self):\n",
    "            \"\"\"Method untuk menghitung\n",
    "            luas lingkaran\"\"\"\n",
    "            print(\"Area of circle:\", self.pi * self.radius * self.radius)\n",
    "            \n",
    "            \n",
    "            \n",
    "        \n",
    "class Square(geometri):\n",
    "\n",
    "    def __init__(self, side):\n",
    "        self.side = side\n",
    "\n",
    "    def calculate_area(self):\n",
    "        print(\"Area of Square:\", self.side*self.side)\n",
    "        \n",
    "        \n",
    "        \n",
    "        \n",
    "class Triangle(geometri):\n",
    "\n",
    "    def __init__(self, alas, tinggi):\n",
    "        self.tinggi = tinggi\n",
    "        self.alas = alas\n",
    "\n",
    "    def calculate_area(self):\n",
    "        print(\"Area of Square:\", (self.alas*self.tinggi)/2)\n",
    "\n",
    "        \n",
    "#Function \n",
    "def hello():\n",
    "    print(\"Hello\")\n",
    "    \n",
    "def pertambahan(a, b):\n",
    "    return a+b\n",
    "\n",
    "\n",
    "\n",
    "\n",
    "\n",
    "\n",
    "\n",
    "\n",
    "\n",
    "\n",
    "\n",
    "\n",
    "\n",
    "\n",
    "\n",
    "\n",
    "\n",
    "\n",
    "\n",
    "\n",
    "\n",
    "\n",
    "\n",
    "    \n",
    "    "
   ]
  }
 ],
 "metadata": {
  "kernelspec": {
   "display_name": "Mining_Eyes",
   "language": "python",
   "name": "mining_eyes"
  },
  "language_info": {
   "codemirror_mode": {
    "name": "ipython",
    "version": 3
   },
   "file_extension": ".py",
   "mimetype": "text/x-python",
   "name": "python",
   "nbconvert_exporter": "python",
   "pygments_lexer": "ipython3",
   "version": "3.9.7"
  }
 },
 "nbformat": 4,
 "nbformat_minor": 5
}
