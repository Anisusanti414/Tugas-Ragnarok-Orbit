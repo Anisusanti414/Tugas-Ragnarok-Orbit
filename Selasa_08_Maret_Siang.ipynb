{
 "cells": [
  {
   "cell_type": "code",
   "execution_count": 28,
   "id": "32869d23",
   "metadata": {},
   "outputs": [],
   "source": [
    "import numpy as np"
   ]
  },
  {
   "cell_type": "code",
   "execution_count": 29,
   "id": "ecb07dd2",
   "metadata": {},
   "outputs": [],
   "source": [
    "A = np.array([[1, 2], [7,8]])\n",
    "B = np.array([[3, 5], [1,6]])"
   ]
  },
  {
   "cell_type": "markdown",
   "id": "c899ffb6",
   "metadata": {},
   "source": [
    "Hitunglah:\n",
    "\n",
    "- 2*A\n",
    "- 2+A\n",
    "- A+B\n",
    "- A-B\n",
    "- determinan A\n",
    "- invers dari B, simpan jadi matriks D\n",
    "- transpose D\n",
    "- nilai eigen dan vektor eigen dari A dan B"
   ]
  },
  {
   "cell_type": "code",
   "execution_count": 30,
   "id": "7b5d0f01",
   "metadata": {},
   "outputs": [
    {
     "name": "stdout",
     "output_type": "stream",
     "text": [
      "[[ 2  4]\n",
      " [14 16]]\n"
     ]
    }
   ],
   "source": [
    "print(2*A)"
   ]
  },
  {
   "cell_type": "code",
   "execution_count": 31,
   "id": "dcc346d2",
   "metadata": {},
   "outputs": [
    {
     "name": "stdout",
     "output_type": "stream",
     "text": [
      "[[ 3  4]\n",
      " [ 9 10]]\n"
     ]
    }
   ],
   "source": [
    "print(2 + A)"
   ]
  },
  {
   "cell_type": "code",
   "execution_count": 32,
   "id": "fecce57c",
   "metadata": {},
   "outputs": [
    {
     "name": "stdout",
     "output_type": "stream",
     "text": [
      "[[ 4  7]\n",
      " [ 8 14]]\n"
     ]
    }
   ],
   "source": [
    "print(A+B)"
   ]
  },
  {
   "cell_type": "code",
   "execution_count": 33,
   "id": "f20bfe66",
   "metadata": {},
   "outputs": [
    {
     "name": "stdout",
     "output_type": "stream",
     "text": [
      "[[-2 -3]\n",
      " [ 6  2]]\n"
     ]
    }
   ],
   "source": [
    "print(A-B)"
   ]
  },
  {
   "cell_type": "code",
   "execution_count": 34,
   "id": "98b7a931",
   "metadata": {},
   "outputs": [
    {
     "name": "stdout",
     "output_type": "stream",
     "text": [
      "Determinan -6.0\n"
     ]
    }
   ],
   "source": [
    "print('Determinan', np.linalg.det(A))"
   ]
  },
  {
   "cell_type": "code",
   "execution_count": 35,
   "id": "a025e441",
   "metadata": {},
   "outputs": [],
   "source": [
    "D = np.linalg.inv(B)"
   ]
  },
  {
   "cell_type": "code",
   "execution_count": 36,
   "id": "2607b5f4",
   "metadata": {},
   "outputs": [
    {
     "name": "stdout",
     "output_type": "stream",
     "text": [
      "[[ 0.46153846 -0.07692308]\n",
      " [-0.38461538  0.23076923]]\n"
     ]
    }
   ],
   "source": [
    "print(D.transpose())"
   ]
  },
  {
   "cell_type": "code",
   "execution_count": 37,
   "id": "2ac93629",
   "metadata": {},
   "outputs": [],
   "source": [
    "eig_val, eign_vec= np.linalg.eig(A)"
   ]
  },
  {
   "cell_type": "code",
   "execution_count": 38,
   "id": "01db18b2",
   "metadata": {},
   "outputs": [
    {
     "name": "stdout",
     "output_type": "stream",
     "text": [
      "Eigen Value A = \n",
      " [-0.62347538  9.62347538]\n"
     ]
    }
   ],
   "source": [
    "print('Eigen Value A = \\n',eig_val)"
   ]
  },
  {
   "cell_type": "code",
   "execution_count": 39,
   "id": "5de6cacc",
   "metadata": {},
   "outputs": [
    {
     "name": "stdout",
     "output_type": "stream",
     "text": [
      "Eigen Vector A = \n",
      " [[-0.77640358 -0.22592838]\n",
      " [ 0.63023605 -0.97414391]]\n"
     ]
    }
   ],
   "source": [
    "print('Eigen Vector A = \\n',\n",
    "      eign_vec)"
   ]
  },
  {
   "cell_type": "code",
   "execution_count": 40,
   "id": "73627b38",
   "metadata": {},
   "outputs": [],
   "source": [
    "eig_val, eign_vec= np.linalg.eig(B)"
   ]
  },
  {
   "cell_type": "code",
   "execution_count": 41,
   "id": "9ad4fda8",
   "metadata": {},
   "outputs": [
    {
     "name": "stdout",
     "output_type": "stream",
     "text": [
      "Eigen Value B = \n",
      " [1.8074176 7.1925824]\n"
     ]
    }
   ],
   "source": [
    "print('Eigen Value B = \\n',eig_val)"
   ]
  },
  {
   "cell_type": "code",
   "execution_count": 42,
   "id": "ebc681ec",
   "metadata": {},
   "outputs": [
    {
     "name": "stdout",
     "output_type": "stream",
     "text": [
      "Eigen Vector B = \n",
      " [[-0.97271381 -0.76626443]\n",
      " [ 0.23200828 -0.64252535]]\n"
     ]
    }
   ],
   "source": [
    "print('Eigen Vector B = \\n',\n",
    "      eign_vec)"
   ]
  },
  {
   "cell_type": "markdown",
   "id": "f1d3cbbd",
   "metadata": {},
   "source": [
    "## Apa perbedaan dari B*D (perkalian antar entry di B dan D) dan BD (perkalian matriks B dan D)?"
   ]
  },
  {
   "cell_type": "code",
   "execution_count": 43,
   "id": "32ad9d15",
   "metadata": {},
   "outputs": [
    {
     "name": "stdout",
     "output_type": "stream",
     "text": [
      "perkalian antar entry di B dan D = \n",
      " [[ 1.38461538 -1.92307692]\n",
      " [-0.07692308  1.38461538]]\n"
     ]
    }
   ],
   "source": [
    "print(\"perkalian antar entry di B dan D = \\n\",B*D)"
   ]
  },
  {
   "cell_type": "code",
   "execution_count": 44,
   "id": "16c3007f",
   "metadata": {},
   "outputs": [
    {
     "name": "stdout",
     "output_type": "stream",
     "text": [
      "perkalian matriks B dan D = \n",
      " [[ 1.00000000e+00  0.00000000e+00]\n",
      " [-5.55111512e-17  1.00000000e+00]]\n"
     ]
    }
   ],
   "source": [
    "print(\"perkalian matriks B dan D = \\n\",np.matmul(B,D))"
   ]
  },
  {
   "cell_type": "markdown",
   "id": "b65e20c6",
   "metadata": {},
   "source": [
    "perkalian entry = [[ 1.38461538, -1.92307692], [-0.07692308, 1.38461538]]\n",
    "\n",
    "perkalian matriks = [[ 1.00000000e+00, -1.11022302e-16], [ 1.11022302e-16, 1.00000000e+00]]"
   ]
  }
 ],
 "metadata": {
  "kernelspec": {
   "display_name": "Python 3 (ipykernel)",
   "language": "python",
   "name": "python3"
  },
  "language_info": {
   "codemirror_mode": {
    "name": "ipython",
    "version": 3
   },
   "file_extension": ".py",
   "mimetype": "text/x-python",
   "name": "python",
   "nbconvert_exporter": "python",
   "pygments_lexer": "ipython3",
   "version": "3.9.7"
  }
 },
 "nbformat": 4,
 "nbformat_minor": 5
}
