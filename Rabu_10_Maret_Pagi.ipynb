{
 "cells": [
  {
   "cell_type": "markdown",
   "metadata": {
    "id": "ZY46fuhhHwzp"
   },
   "source": [
    "# Module 2: Data Analytics with Python - Statistics"
   ]
  },
  {
   "cell_type": "markdown",
   "metadata": {
    "id": "kTkpCFGvHwzt"
   },
   "source": [
    "## Lab 1: Basic statistics & Linear Algebra"
   ]
  },
  {
   "cell_type": "markdown",
   "metadata": {
    "id": "eHbZ5AyMHwzu"
   },
   "source": [
    "<br><br><br><br><br><br><br><br><br>\n",
    "## About Libraries for Statistics\n",
    "***"
   ]
  },
  {
   "cell_type": "markdown",
   "metadata": {
    "id": "r5PIYcB9Hwzw"
   },
   "source": [
    "### NUMPY\n",
    "\n",
    "NumPy is short for \"Numerical Python\". It is used to work with arrays. In Python we have lists that serve the purpose of arrays, but they are slow to process. NumPy aims to provide an array object that is twice faster then traditional Python lists."
   ]
  },
  {
   "cell_type": "markdown",
   "metadata": {
    "id": "BlULGDKzHwzw"
   },
   "source": [
    "### SCIPY\n",
    "\n",
    "SciPy is a free and open-source Python library used for scientific computing and technical computing. \n",
    "SciPy contains modules for optimization, linear algebra, integration, interpolation, special functions, \n",
    "FFT, signal and image processing, ODE solvers and other tasks common in science and engineering."
   ]
  },
  {
   "cell_type": "code",
   "execution_count": 1,
   "metadata": {
    "colab": {
     "base_uri": "https://localhost:8080/"
    },
    "id": "otLBcwaCHwzx",
    "outputId": "f7ac0536-f898-463f-e519-c0ac04ccee73"
   },
   "outputs": [
    {
     "name": "stdout",
     "output_type": "stream",
     "text": [
      "Requirement already satisfied: numpy in c:\\programdata\\anaconda3\\lib\\site-packages (1.20.3)\n",
      "Requirement already satisfied: scipy in c:\\programdata\\anaconda3\\lib\\site-packages (1.7.1)\n",
      "Requirement already satisfied: numpy<1.23.0,>=1.16.5 in c:\\programdata\\anaconda3\\lib\\site-packages (from scipy) (1.20.3)\n"
     ]
    }
   ],
   "source": [
    "import sys\n",
    "\n",
    "# run this cell to install numpy\n",
    "!{sys.executable} -m pip install numpy\n",
    "\n",
    "# run this cell to install scipy\n",
    "!{sys.executable} -m pip install scipy"
   ]
  },
  {
   "cell_type": "code",
   "execution_count": 2,
   "metadata": {},
   "outputs": [],
   "source": [
    "import sys\n",
    "import scipy"
   ]
  },
  {
   "cell_type": "markdown",
   "metadata": {
    "id": "u_kJHOr4Hwz1"
   },
   "source": [
    "\n",
    "# Objevtive\n",
    "***\n",
    "- **Measures of Central Tendency**\n",
    "     - Mean\n",
    "     - Median\n",
    "     - Mode\n",
    "\n",
    "- **Measures Of Spread**\n",
    "\n",
    "     - Range\n",
    "     - Quartiles and Interquartile range\n",
    "     - Percentile\n",
    "     - Variance\n",
    "     - Standard deviation\n",
    "\n",
    "\n",
    "- **Correlation v/s Causation**\n",
    "- **Kurtosis**\n",
    "- **Skewness**\n",
    "- **Eigen Vectors**\n",
    "\n",
    "     "
   ]
  },
  {
   "cell_type": "code",
   "execution_count": 3,
   "metadata": {
    "id": "3pA_uj2oHwz1"
   },
   "outputs": [],
   "source": [
    "import numpy as np\n",
    "\n",
    "# Creating a Basic Array in Numpy\n",
    "X=np.array([2,5,7,4,4])"
   ]
  },
  {
   "cell_type": "markdown",
   "metadata": {
    "id": "Sm5Qb7mEHwz2"
   },
   "source": [
    "\n",
    "## Measures of Central Tendency \n",
    "***\n",
    "\n",
    "The measure of central tendency is the commonly used method to identify the centre of the data set.\n",
    "Used to describe a data set by identifying the central position within that data set.\n",
    "\n",
    "Mean, Median and Mode"
   ]
  },
  {
   "cell_type": "markdown",
   "metadata": {
    "id": "lNkH796AHwz3"
   },
   "source": [
    "### MEAN\n",
    "***\n",
    "The most popular measure of central tendency. ​ It is also referred to as the average value in the data set. ​Defined as the sum of all values in a data set, divided by the total number of values in a data set.​ \n",
    "\n",
    "$ \\bar X= \\frac{\\sum X}{n}$"
   ]
  },
  {
   "cell_type": "code",
   "execution_count": 4,
   "metadata": {
    "colab": {
     "base_uri": "https://localhost:8080/"
    },
    "id": "YmtUVUEFHwz4",
    "outputId": "cc30898d-a211-4024-e97c-9299293c27b3"
   },
   "outputs": [
    {
     "name": "stdout",
     "output_type": "stream",
     "text": [
      "Data [2 5 7 4 4]\n",
      "Mean: 4.4\n"
     ]
    }
   ],
   "source": [
    "# Mean using Numpy\n",
    "print(\"Data\",X)\n",
    "print(\"Mean:\",np.mean(X))"
   ]
  },
  {
   "cell_type": "markdown",
   "metadata": {
    "id": "WtJsMQHmHwz4"
   },
   "source": [
    "\n",
    "### MEDIAN\n",
    "***\n",
    "Median is the middle value of an ordered data set. If there are a total of n values. Then median is -\n",
    "\n",
    "1. $ \\frac {(n+1)}{2} $th term if n is odd.\n",
    "\n",
    "\n",
    "2. Average of ($\\frac{n}{2}$) and ($\\frac{n}{2}+1$)th terms, if n is even."
   ]
  },
  {
   "cell_type": "code",
   "execution_count": 5,
   "metadata": {
    "colab": {
     "base_uri": "https://localhost:8080/"
    },
    "id": "Sa9P2t1iHwz4",
    "outputId": "7b2bf293-d738-42a1-e1e1-a263b5afae2d"
   },
   "outputs": [
    {
     "name": "stdout",
     "output_type": "stream",
     "text": [
      "Data [2 5 7 4 4]\n",
      "Median 4.0\n"
     ]
    }
   ],
   "source": [
    "# Finding Median of X\n",
    "print(\"Data\",X)\n",
    "print(\"Median\",np.median(X))"
   ]
  },
  {
   "cell_type": "markdown",
   "metadata": {
    "id": "HoLJ-BAsHwz5"
   },
   "source": [
    "\n",
    "### MODE\n",
    "***\n",
    "\n",
    "1. Most frequently occurring value in the data set, i.e. value of the random sample that occurs with the greatest frequency.\n",
    "2. It is applicable to all levels of data measurement, i.e., nominal, ordinal, interval and ratio scales."
   ]
  },
  {
   "cell_type": "code",
   "execution_count": 6,
   "metadata": {},
   "outputs": [
    {
     "data": {
      "text/plain": [
       "(array([2, 4, 5, 7]), array([1, 2, 1, 1], dtype=int64))"
      ]
     },
     "execution_count": 6,
     "metadata": {},
     "output_type": "execute_result"
    }
   ],
   "source": [
    "np.unique(X, return_counts=True)"
   ]
  },
  {
   "cell_type": "code",
   "execution_count": 7,
   "metadata": {
    "id": "LKeWi3NBHwz5"
   },
   "outputs": [
    {
     "name": "stdout",
     "output_type": "stream",
     "text": [
      "Data [2 5 7 4 4]\n"
     ]
    },
    {
     "data": {
      "text/plain": [
       "(array([2, 4, 5, 7]), array([1, 2, 1, 1], dtype=int64))"
      ]
     },
     "execution_count": 7,
     "metadata": {},
     "output_type": "execute_result"
    }
   ],
   "source": [
    "# Finding Mode using numpy\n",
    "print(\"Data\",X)\n",
    "val, count = np.unique(X, return_counts=True)\n",
    "val, count"
   ]
  },
  {
   "cell_type": "code",
   "execution_count": 8,
   "metadata": {},
   "outputs": [
    {
     "data": {
      "text/plain": [
       "array([1, 2, 1, 1], dtype=int64)"
      ]
     },
     "execution_count": 8,
     "metadata": {},
     "output_type": "execute_result"
    }
   ],
   "source": [
    "count"
   ]
  },
  {
   "cell_type": "code",
   "execution_count": 9,
   "metadata": {
    "id": "LKeWi3NBHwz5"
   },
   "outputs": [
    {
     "name": "stdout",
     "output_type": "stream",
     "text": [
      "Index:  1\n",
      "Mode numpy: 4\n"
     ]
    }
   ],
   "source": [
    "index = np.argmax(count)\n",
    "print(\"Index: \", index)\n",
    "print(\"Mode numpy:\",val[index])"
   ]
  },
  {
   "cell_type": "code",
   "execution_count": 10,
   "metadata": {
    "id": "LKeWi3NBHwz5"
   },
   "outputs": [
    {
     "name": "stdout",
     "output_type": "stream",
     "text": [
      "Mode scipy: ModeResult(mode=array([4]), count=array([2]))\n"
     ]
    }
   ],
   "source": [
    "# Finding Mode using Scipy\n",
    "\n",
    "from scipy import stats\n",
    "\n",
    "print(\"Mode scipy:\",stats.mode(X))\n",
    "modus = stats.mode(X)"
   ]
  },
  {
   "cell_type": "code",
   "execution_count": 11,
   "metadata": {},
   "outputs": [
    {
     "data": {
      "text/plain": [
       "ModeResult(mode=array([4]), count=array([2]))"
      ]
     },
     "execution_count": 11,
     "metadata": {},
     "output_type": "execute_result"
    }
   ],
   "source": [
    "modus"
   ]
  },
  {
   "cell_type": "markdown",
   "metadata": {
    "id": "sJnCgouEHwz5"
   },
   "source": [
    "\n",
    "## Measures of Spread\n",
    "***\n",
    "\n",
    "A measure of how the data is dispersed or spread around the mean, i.e. the average.  It is used in quantitative data, as the variables can be arranged in a logical order, with a low and high value.\n",
    "\n",
    "Spread can be measured in-\n",
    "1.\tRange \n",
    "2.\tQuartiles and Interquartile range \n",
    "3.\tPercentile\n",
    "4.\tVariance \n",
    "5.\tStandard deviation \n"
   ]
  },
  {
   "cell_type": "markdown",
   "metadata": {
    "id": "KwZbh8pVHwz6"
   },
   "source": [
    "### RANGE\n",
    "***\n",
    "1. It is the simplest measure of variability. \n",
    "2. The distance between the smallest value and the largest value in a dataset. \n",
    "\n",
    "$ Range= \\max(X)-\\min(X)$"
   ]
  },
  {
   "cell_type": "code",
   "execution_count": 12,
   "metadata": {
    "colab": {
     "base_uri": "https://localhost:8080/"
    },
    "id": "ghN1JDlhHwz6",
    "outputId": "b068077e-f805-4c66-9101-8165df6097fc"
   },
   "outputs": [
    {
     "name": "stdout",
     "output_type": "stream",
     "text": [
      "Data  [2 5 7 4 4]\n",
      "Range  5\n"
     ]
    }
   ],
   "source": [
    "# Calculating the Range\n",
    "print(\"Data \",X)\n",
    "print(\"Range \",X.max()-X.min())"
   ]
  },
  {
   "cell_type": "markdown",
   "metadata": {
    "id": "0rl3bJ5eHwz6"
   },
   "source": [
    "<br><br><br><br><br><br>\n",
    "### QUARTILES AND IQR(Interquartile Range)\n",
    "***\n",
    "\n",
    "1. Q1 is the \"middle\" value in the first half of the rank-ordered data set.\n",
    "2. Q2 is the median value in the set.\n",
    "3. Q3 is the \"middle\" value in the second half of the rank-ordered data set.\n",
    "4. The interquartile range is calculated as: Upper Quartile – Lower Quartile."
   ]
  },
  {
   "cell_type": "code",
   "execution_count": 13,
   "metadata": {
    "colab": {
     "base_uri": "https://localhost:8080/"
    },
    "id": "g2g36qhAHwz7",
    "outputId": "1c28e648-4bfd-48f1-a4af-a7bb38e220d4"
   },
   "outputs": [
    {
     "name": "stdout",
     "output_type": "stream",
     "text": [
      "Data [ 5  3  4  8  5  8  7 11]\n",
      "\n",
      "Quartile 1: 4.5\n",
      "Quartile 2: 6.0\n",
      "Quartile 3: 8.0\n",
      "\n",
      "Interquartile Range 3.5\n"
     ]
    }
   ],
   "source": [
    "# Defining Data\n",
    "data1=np.array([5, 3, 4, 8, 5, 8, 7, 11])\n",
    "print(\"Data\",data1)\n",
    "\n",
    "# First quartile (Q1)\n",
    "Q1 = np.quantile(data1, .25, interpolation = 'midpoint')\n",
    "print(\"\\nQuartile 1:\",Q1)\n",
    " \n",
    "# Second quartile (Q2)\n",
    "Q2 = np.quantile(data1, .50, interpolation = 'midpoint')\n",
    "print(\"Quartile 2:\",Q2)\n",
    "\n",
    "# Third quartile (Q3)\n",
    "Q3 = np.quantile(data1, .75, interpolation = 'midpoint')\n",
    "print(\"Quartile 3:\",Q3)\n",
    "\n",
    "# Interquaritle range (IQR)\n",
    "IQR = Q3 - Q1\n",
    "print(\"\\nInterquartile Range\",IQR)"
   ]
  },
  {
   "cell_type": "markdown",
   "metadata": {
    "id": "OtPVJeCfHwz7"
   },
   "source": [
    "<br><br><br><br><br><br>\n",
    "### PERCENTILES\n",
    "***\n",
    "\n",
    "The percentile usually indicates that a certain percentage falls below that percentile. For example, if you score in the 25th percentile, then 25% of test takers are below your score. The “25” is called the percentile rank. "
   ]
  },
  {
   "cell_type": "code",
   "execution_count": 14,
   "metadata": {
    "colab": {
     "base_uri": "https://localhost:8080/"
    },
    "id": "eAKtKYQiHwz7",
    "outputId": "6ccd4bb8-0bb4-49ab-ae73-178f9f5037fe"
   },
   "outputs": [
    {
     "name": "stdout",
     "output_type": "stream",
     "text": [
      "Data [ 5  3  4  8  5  8  7 11]\n",
      "20th Percentile: 4.4\n"
     ]
    }
   ],
   "source": [
    "print(\"Data\",data1)\n",
    "percentile_20 = np.percentile(data1,20)\n",
    "print(\"20th Percentile:\",round(percentile_20,2))"
   ]
  },
  {
   "cell_type": "markdown",
   "metadata": {
    "id": "18LiYYF2Hwz7"
   },
   "source": [
    "<br><br><br>\n",
    "### VARIANCE AND STANDARD DEVIATION\n",
    "***\n",
    "Variance is a measure of how the spread-out a data set is. The formula for variance is-\n",
    "\n",
    "$\\sigma^2 = \\frac{\\sum (X_{i}-\\bar X)^2}{n-1}$\n",
    "\n",
    "Standard Deviation is the square root of variance. It is denoted by greek letter sigma $\\sigma$."
   ]
  },
  {
   "cell_type": "code",
   "execution_count": 15,
   "metadata": {
    "colab": {
     "base_uri": "https://localhost:8080/"
    },
    "id": "YGPw8fuVHwz8",
    "outputId": "34479384-2cc4-484d-ea62-9de9a553341e"
   },
   "outputs": [
    {
     "name": "stdout",
     "output_type": "stream",
     "text": [
      "Data [ 1  3  4  5  5  6  7 11]\n",
      "Varaince: 8.785714285714286\n",
      "Standard Deviation: 2.7726341266023544\n",
      "Standard Deviation: 2.9640705601780613\n"
     ]
    }
   ],
   "source": [
    "import numpy as np\n",
    "\n",
    "data1=np.array([1, 3, 4, 5, 5, 6, 7, 11])\n",
    "\n",
    "print(\"Data\",data1)\n",
    "\n",
    "'''\n",
    "    \"Delta Degrees of Freedom\": the divisor used in the calculation is\n",
    "    ``N - ddof``, where ``N`` represents the number of elements. By\n",
    "    default `ddof` is zero.\n",
    "'''\n",
    "print(\"Varaince:\",np.var(data1,ddof=1))\n",
    "print(\"Standard Deviation:\",np.std(data1,ddof=0)) # populasi\n",
    "print(\"Standard Deviation:\",np.std(data1,ddof=1)) # sampel"
   ]
  },
  {
   "cell_type": "code",
   "execution_count": 16,
   "metadata": {
    "colab": {
     "base_uri": "https://localhost:8080/"
    },
    "id": "nBetml9LA9xe",
    "outputId": "35da18e0-821f-4d2d-a4b4-8ba56361129c"
   },
   "outputs": [
    {
     "name": "stdout",
     "output_type": "stream",
     "text": [
      "Nilai Mean E :  78.0\n",
      "Nilai Range E : 40\n",
      "Nilai Varians E : 116.0\n",
      "Nilai Standart Deviasi E:  10.770329614269007\n",
      "Nilai Standart Deviasi E:  11.352924243950934\n"
     ]
    }
   ],
   "source": [
    "import numpy as np\n",
    "import statistics\n",
    "\n",
    "E = [60,70,70,70,80,80,80,80,90,100]\n",
    "F = [75,75,75,75,80,80,80,80,80,80]\n",
    "\n",
    "# mean\n",
    "print(\"Nilai Mean E : \", np.mean(E))\n",
    "\n",
    "# range\n",
    "print(\"Nilai Range E :\", np.max(E) - np.min(E))\n",
    "\n",
    "# varians\n",
    "print(\"Nilai Varians E :\", np.var(E))\n",
    "\n",
    "# Standart Deviasi\n",
    "print(\"Nilai Standart Deviasi E: \", np.std(E)) # std populasi\n",
    "print(\"Nilai Standart Deviasi E: \", statistics.stdev(E)) # std sampel, bisa pakai pst.dev untuk populasi\n",
    "\n"
   ]
  },
  {
   "cell_type": "markdown",
   "metadata": {
    "id": "D-mAQBYxHwz8"
   },
   "source": [
    "<br><br><br><br><br><br>\n",
    "## COVARIANCE AND CORRELATION\n",
    "***"
   ]
  },
  {
   "cell_type": "markdown",
   "metadata": {
    "id": "jT6txvZLHwz8"
   },
   "source": [
    "### COVARIANCE\n",
    "1. Covariance is a statistical technique used for determining the relationship between the movement of two random variables. In short, how much two random variables change together.  \n",
    "\n",
    "2. Provides a measure of the strength of the correlation between two or more sets of random variates.\n",
    "\n",
    "3. Example: Let E(x) be the expected value of a given variable x, and E(y) be the expected value of variable y, then the covariance between x and y is given by:\n",
    "\n",
    "$cov(x, y) = E[xy] − E[x] E[y]$\n",
    "\n",
    "- If COV(x, y) = 0 then variables are uncorrelated\n",
    "- If COV(x, y) > 0 then variables positively correlated\n",
    "- If COV(x, y) < 0 then variables negatively correlated"
   ]
  },
  {
   "cell_type": "code",
   "execution_count": 17,
   "metadata": {
    "colab": {
     "base_uri": "https://localhost:8080/"
    },
    "id": "Et4hsmT4Hwz8",
    "outputId": "84acdce8-b4a6-4839-d9ea-ca64f58f18c6"
   },
   "outputs": [
    {
     "name": "stdout",
     "output_type": "stream",
     "text": [
      "[1 2 3 4 5 6 7 8 9]\n",
      "[9 8 7 6 5 4 3 2 1]\n",
      "\n",
      "Covariance  -7.5\n"
     ]
    }
   ],
   "source": [
    "x = np.array([1,2,3,4,5,6,7,8,9])\n",
    "print(x)\n",
    "y = np.array([9,8,7,6,5,4,3,2,1])\n",
    "print(y)\n",
    "\n",
    "print(\"\\nCovariance \",np.cov(x,y)[0,1])"
   ]
  },
  {
   "cell_type": "markdown",
   "metadata": {
    "id": "MtIldC9VHwz8"
   },
   "source": [
    "<br><br><br><br><br><br>\n",
    "### CORRELATION\n",
    "***\n",
    "\n",
    "1. It is the measure of the strength of the relation between two variables. How strongly two variables are connected is defined as the correlation. \n",
    "\n",
    "2. It depends upon two variables, change in one variable effect a change in second variable.\n",
    "\n",
    "3. Its value lies in the range of -1 and +1. r is called the Pearson's correlation coefficient.\n",
    "\n",
    "4. Is related to covariance by the given formula: \n",
    "\n",
    "$r= cov(x,y)/\\sigma_x \\sigma_y$\n",
    "\n",
    "- A correlation coefficient greater than zero indicates a positive relationship while a value less than zero signifies a negative relationship.\n",
    "- A value of zero indicates no relationship between the two variables being compared."
   ]
  },
  {
   "cell_type": "code",
   "execution_count": 18,
   "metadata": {
    "colab": {
     "base_uri": "https://localhost:8080/"
    },
    "id": "BGfdovGlHwz8",
    "outputId": "3c7855ae-e1d9-4bee-88d6-9c874041c3d4"
   },
   "outputs": [
    {
     "name": "stdout",
     "output_type": "stream",
     "text": [
      "[[ 1. -1.]\n",
      " [-1.  1.]]\n"
     ]
    }
   ],
   "source": [
    "# Return a correlation coefficient matrix\n",
    "print(np.corrcoef(x,y))"
   ]
  },
  {
   "cell_type": "markdown",
   "metadata": {
    "id": "qvEx4zAxHwz9"
   },
   "source": [
    "<br><br><br>\n",
    "<br><br><br>\n",
    "### KURTOSIS\n",
    "***\n",
    "\n",
    "1. Measure of how tall and sharp the central peak is, relative to a standard bell curve.\n",
    "2. Also called as the measure of tailedness of a data distribution."
   ]
  },
  {
   "cell_type": "code",
   "execution_count": 21,
   "metadata": {
    "colab": {
     "base_uri": "https://localhost:8080/"
    },
    "id": "nzXpTJY9Hwz9",
    "outputId": "47a4aa97-f67b-4c99-f556-e47a5e05389a"
   },
   "outputs": [
    {
     "name": "stdout",
     "output_type": "stream",
     "text": [
      "Kurtosis -1.2002400240024003\n"
     ]
    }
   ],
   "source": [
    "data2=np.linspace(-10,10,100)\n",
    "print(\"Kurtosis\",stats.kurtosis(data2))"
   ]
  },
  {
   "cell_type": "code",
   "execution_count": 22,
   "metadata": {},
   "outputs": [
    {
     "data": {
      "text/plain": [
       "array([-10.        ,  -9.7979798 ,  -9.5959596 ,  -9.39393939,\n",
       "        -9.19191919,  -8.98989899,  -8.78787879,  -8.58585859,\n",
       "        -8.38383838,  -8.18181818,  -7.97979798,  -7.77777778,\n",
       "        -7.57575758,  -7.37373737,  -7.17171717,  -6.96969697,\n",
       "        -6.76767677,  -6.56565657,  -6.36363636,  -6.16161616,\n",
       "        -5.95959596,  -5.75757576,  -5.55555556,  -5.35353535,\n",
       "        -5.15151515,  -4.94949495,  -4.74747475,  -4.54545455,\n",
       "        -4.34343434,  -4.14141414,  -3.93939394,  -3.73737374,\n",
       "        -3.53535354,  -3.33333333,  -3.13131313,  -2.92929293,\n",
       "        -2.72727273,  -2.52525253,  -2.32323232,  -2.12121212,\n",
       "        -1.91919192,  -1.71717172,  -1.51515152,  -1.31313131,\n",
       "        -1.11111111,  -0.90909091,  -0.70707071,  -0.50505051,\n",
       "        -0.3030303 ,  -0.1010101 ,   0.1010101 ,   0.3030303 ,\n",
       "         0.50505051,   0.70707071,   0.90909091,   1.11111111,\n",
       "         1.31313131,   1.51515152,   1.71717172,   1.91919192,\n",
       "         2.12121212,   2.32323232,   2.52525253,   2.72727273,\n",
       "         2.92929293,   3.13131313,   3.33333333,   3.53535354,\n",
       "         3.73737374,   3.93939394,   4.14141414,   4.34343434,\n",
       "         4.54545455,   4.74747475,   4.94949495,   5.15151515,\n",
       "         5.35353535,   5.55555556,   5.75757576,   5.95959596,\n",
       "         6.16161616,   6.36363636,   6.56565657,   6.76767677,\n",
       "         6.96969697,   7.17171717,   7.37373737,   7.57575758,\n",
       "         7.77777778,   7.97979798,   8.18181818,   8.38383838,\n",
       "         8.58585859,   8.78787879,   8.98989899,   9.19191919,\n",
       "         9.39393939,   9.5959596 ,   9.7979798 ,  10.        ])"
      ]
     },
     "execution_count": 22,
     "metadata": {},
     "output_type": "execute_result"
    }
   ],
   "source": [
    "data2"
   ]
  },
  {
   "cell_type": "markdown",
   "metadata": {
    "id": "sEaCQeaIHwz9"
   },
   "source": [
    "<br><br><br><br><br><br>\n",
    "### SKEWNESS\n",
    "***\n",
    "The amount and direction of skew in data distribution, i.e. deviation from the horizontal symmetry. The following is an example of finding skewness."
   ]
  },
  {
   "cell_type": "code",
   "execution_count": 23,
   "metadata": {
    "colab": {
     "base_uri": "https://localhost:8080/",
     "height": 282
    },
    "id": "gGnJaxU4Hwz9",
    "outputId": "bc5be927-a78c-4350-8275-f2fad0cc37b7",
    "scrolled": true
   },
   "outputs": [
    {
     "data": {
      "text/html": [
       "<script>\n",
       "code_show=true; \n",
       "function code_toggle() {\n",
       "    if (code_show){\n",
       "        $('div.cell.code_cell.rendered.selected div.input').hide();\n",
       "    } else {\n",
       "        $('div.cell.code_cell.rendered.selected div.input').show();\n",
       "    }\n",
       "    code_show = !code_show\n",
       "} \n",
       "$( document ).ready(code_toggle);\n",
       "</script>\n",
       "To show/hide this cell's raw code input, click <a href=\"javascript:code_toggle()\">here</a>."
      ],
      "text/plain": [
       "<IPython.core.display.HTML object>"
      ]
     },
     "metadata": {},
     "output_type": "display_data"
    },
    {
     "data": {
      "image/png": "[encoded data removed]",
      "text/plain": [
       "<Figure size 432x288 with 1 Axes>"
      ]
     },
     "metadata": {
      "needs_background": "light"
     },
     "output_type": "display_data"
    }
   ],
   "source": [
    "from IPython.display import HTML\n",
    "from IPython.display import display\n",
    "\n",
    "# Taken from https://stackoverflow.com/questions/31517194/how-to-hide-one-specific-cell-input-or-output-in-ipython-notebook\n",
    "tag = HTML('''<script>\n",
    "code_show=true; \n",
    "function code_toggle() {\n",
    "    if (code_show){\n",
    "        $('div.cell.code_cell.rendered.selected div.input').hide();\n",
    "    } else {\n",
    "        $('div.cell.code_cell.rendered.selected div.input').show();\n",
    "    }\n",
    "    code_show = !code_show\n",
    "} \n",
    "$( document ).ready(code_toggle);\n",
    "</script>\n",
    "To show/hide this cell's raw code input, click <a href=\"javascript:code_toggle()\">here</a>.''')\n",
    "display(tag)\n",
    "\n",
    "\n",
    "\n",
    "from scipy.stats import skewnorm\n",
    "import matplotlib.pyplot as plt\n",
    "\n",
    "numValues = 10000\n",
    "maxValue = 100\n",
    "skewness = -5   #Negative values are left skewed, positive values are right skewed.\n",
    "\n",
    "random = skewnorm.rvs(a = skewness,loc=maxValue, size=numValues)  #Skewnorm function\n",
    "\n",
    "random = random - min(random)      #Shift the set so the minimum value is equal to zero.\n",
    "random = random / max(random)      #Standadize all the vlues between 0 and 1. \n",
    "random = random * maxValue         #Multiply the standardized values by the maximum value.\n",
    "\n",
    "#Plot histogram to check skewness\n",
    "plt.hist(random,30,density=True, color = 'red', alpha=0.1)\n",
    "plt.show()\n",
    "\n"
   ]
  },
  {
   "cell_type": "code",
   "execution_count": null,
   "metadata": {
    "id": "dEUEBnmuHwz9",
    "outputId": "ed95ddd8-1895-4df0-8123-ff2bd99cb8c9"
   },
   "outputs": [
    {
     "name": "stdout",
     "output_type": "stream",
     "text": [
      "Skewness -2.8663736585314984e-17\n"
     ]
    }
   ],
   "source": [
    "print(\"Skewness\",stats.skew(data2))"
   ]
  },
  {
   "cell_type": "markdown",
   "metadata": {
    "id": "83wq4I8hHwz9"
   },
   "source": [
    "<br><br><br><br><br><br>\n",
    "### Eigen Vector\n",
    "***\n",
    "\n",
    "LetA be an nXn matrix (SquareMatrix).\n",
    "\n",
    "1. An eigen vector of A is a non zero vector v in Rn such that Av=λv,for some scalar λ.\n",
    "2. An eigenvalue of A is a scalar λ such that the equation Av=λv has a non trivial solution.\n",
    "\n",
    "If Av=λv for v not equal to 0,we say that λ is the eigenvalue for v,and that v is aneigenvector for λ.\n",
    "\n",
    "The German prefix “eigen” roughly translates to “self” or “own”. An eigenvector ofAis a vector that is taken to a multiple of itself by the matrix transformationT(x)=Ax,which perhaps explains the terminology. On the other hand, “eigen” is often translated as “characteristic”; we may think of an eigenvector as describing an intrinsic, or characteristic, property ofA.\n",
    "\n",
    "\n",
    "Note-Eigenvalues and eigenvectors are only for square matrices.\n"
   ]
  },
  {
   "cell_type": "code",
   "execution_count": 24,
   "metadata": {
    "colab": {
     "base_uri": "https://localhost:8080/"
    },
    "id": "DQNf2gkcHwz9",
    "outputId": "501f2ca2-dab2-4c55-aec2-53bf7d750346"
   },
   "outputs": [
    {
     "data": {
      "text/plain": [
       "matrix([[5, 6, 0],\n",
       "        [3, 7, 5],\n",
       "        [5, 6, 1]])"
      ]
     },
     "execution_count": 24,
     "metadata": {},
     "output_type": "execute_result"
    }
   ],
   "source": [
    "import numpy as np\n",
    "x = np.matrix([[5,6,0],[3,7,5],[5,6,1]])\n",
    "x\n"
   ]
  },
  {
   "cell_type": "code",
   "execution_count": 25,
   "metadata": {
    "colab": {
     "base_uri": "https://localhost:8080/"
    },
    "id": "NL_iKl6nHwz-",
    "outputId": "ea9abba8-32ce-489c-a924-8369eca43e2f"
   },
   "outputs": [
    {
     "data": {
      "text/plain": [
       "array([[1., 0., 0.],\n",
       "       [0., 1., 0.],\n",
       "       [0., 0., 1.]])"
      ]
     },
     "execution_count": 25,
     "metadata": {},
     "output_type": "execute_result"
    }
   ],
   "source": [
    "\n",
    "e = np.eye(3)\n",
    "e"
   ]
  },
  {
   "cell_type": "code",
   "execution_count": 26,
   "metadata": {
    "colab": {
     "base_uri": "https://localhost:8080/"
    },
    "id": "taRA2OKsHwz-",
    "outputId": "1ef688e0-88c1-4a9e-9dde-dcdd4307d94e"
   },
   "outputs": [
    {
     "data": {
      "text/plain": [
       "(array([13.173862+0.j        , -0.086931+1.13264162j,\n",
       "        -0.086931-1.13264162j]),\n",
       " matrix([[ 0.49832574+0.j        ,  0.66254382+0.j        ,\n",
       "           0.66254382-0.j        ],\n",
       "         [ 0.6788743 +0.j        , -0.56171911+0.12507078j,\n",
       "          -0.56171911-0.12507078j],\n",
       "         [ 0.53925981+0.j        ,  0.37031456-0.30451889j,\n",
       "           0.37031456+0.30451889j]]))"
      ]
     },
     "execution_count": 26,
     "metadata": {},
     "output_type": "execute_result"
    }
   ],
   "source": [
    "# creating a new matrix which  is linear transformation of x\n",
    "m = x + 45*e\n",
    "np.linalg.eig(x)"
   ]
  },
  {
   "cell_type": "code",
   "execution_count": 27,
   "metadata": {
    "colab": {
     "base_uri": "https://localhost:8080/"
    },
    "id": "KxwLylu5Hwz-",
    "outputId": "b1f115a4-bd4d-4449-f177-aa996d59a49b"
   },
   "outputs": [
    {
     "data": {
      "text/plain": [
       "(array([58.173862+0.j        , 44.913069+1.13264162j,\n",
       "        44.913069-1.13264162j]),\n",
       " matrix([[ 0.49832574+0.j        ,  0.66254382+0.j        ,\n",
       "           0.66254382-0.j        ],\n",
       "         [ 0.6788743 +0.j        , -0.56171911+0.12507078j,\n",
       "          -0.56171911-0.12507078j],\n",
       "         [ 0.53925981+0.j        ,  0.37031456-0.30451889j,\n",
       "           0.37031456+0.30451889j]]))"
      ]
     },
     "execution_count": 27,
     "metadata": {},
     "output_type": "execute_result"
    }
   ],
   "source": [
    "np.linalg.eig(m)"
   ]
  },
  {
   "cell_type": "markdown",
   "metadata": {
    "id": "oeD6RYntHwz-"
   },
   "source": [
    "### Thank You !!!"
   ]
  }
 ],
 "metadata": {
  "colab": {
   "collapsed_sections": [],
   "name": "Module2_Section1_Lab1_Basic_Statistics.ipynb",
   "provenance": []
  },
  "kernelspec": {
   "display_name": "Python 3 (ipykernel)",
   "language": "python",
   "name": "python3"
  },
  "language_info": {
   "codemirror_mode": {
    "name": "ipython",
    "version": 3
   },
   "file_extension": ".py",
   "mimetype": "text/x-python",
   "name": "python",
   "nbconvert_exporter": "python",
   "pygments_lexer": "ipython3",
   "version": "3.9.7"
  }
 },
 "nbformat": 4,
 "nbformat_minor": 1
}
